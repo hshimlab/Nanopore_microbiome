{
 "cells": [
  {
   "cell_type": "markdown",
   "id": "ef81865a-22f9-4303-a671-666bac796fd0",
   "metadata": {},
   "source": [
    "# Find unclassified nanopore sequences\n",
    "## Python codes to extract unclassified sequences from nanopore fastq.gz (basecalled gunzipped) files using WIMP classification in csv\n",
    "### Author: Hyunjin Shim; Date: 20221130"
   ]
  },
  {
   "cell_type": "code",
   "execution_count": 1,
   "id": "3f7a0c2f-86b0-42c8-88d8-61e61054b9bd",
   "metadata": {},
   "outputs": [],
   "source": [
    "import os\n",
    "import glob\n",
    "import pandas as pd\n",
    "import gzip"
   ]
  },
  {
   "cell_type": "code",
   "execution_count": 2,
   "id": "8eed7d6b-e215-4f20-bd1d-1e0683b854ee",
   "metadata": {},
   "outputs": [
    {
     "data": {
      "text/plain": [
       "['../Data/WIMP/classification_wimp_Saliva1_R2.csv',\n",
       " '../Data/WIMP/classification_wimp_Stool2_R1.csv',\n",
       " '../Data/WIMP/classification_wimp_Saliva1_R1.csv',\n",
       " '../Data/WIMP/classification_wimp_Stool2_R2.csv',\n",
       " '../Data/WIMP/classification_wimp_Saliva3_R1.csv',\n",
       " '../Data/WIMP/classification_wimp_Saliva3_R2.csv',\n",
       " '../Data/WIMP/classification_wimp_Stool1_R1.csv',\n",
       " '../Data/WIMP/classification_wimp_Saliva2_R2.csv',\n",
       " '../Data/WIMP/classification_wimp_Stool1_R2.csv',\n",
       " '../Data/WIMP/classification_wimp_Saliva2_R1.csv']"
      ]
     },
     "execution_count": 2,
     "metadata": {},
     "output_type": "execute_result"
    }
   ],
   "source": [
    "# change path to import nanopore classification csv files\n",
    "path = '../Data/WIMP/'\n",
    "files_list = glob.glob(path + 'classification_wimp_*')\n",
    "files_list"
   ]
  },
  {
   "cell_type": "code",
   "execution_count": 3,
   "id": "27a3b517-2aca-4407-ac79-ba1273e3ed15",
   "metadata": {},
   "outputs": [
    {
     "data": {
      "text/plain": [
       "'classification_wimp_Stool2_R1'"
      ]
     },
     "execution_count": 3,
     "metadata": {},
     "output_type": "execute_result"
    }
   ],
   "source": [
    "# change file name individually and run the entire for loop\n",
    "file_now = files_list[1]\n",
    "file_name = '_'.join(file_now.split('/')[-1].split('.')[0:1])\n",
    "file_name"
   ]
  },
  {
   "cell_type": "code",
   "execution_count": 4,
   "id": "ee6c43fd-41b4-4af5-b318-f4052870c700",
   "metadata": {},
   "outputs": [
    {
     "data": {
      "text/plain": [
       "(14088, 9)"
      ]
     },
     "execution_count": 4,
     "metadata": {},
     "output_type": "execute_result"
    }
   ],
   "source": [
    "wimp_df = pd.read_csv(file_now)\n",
    "wimp_df_unclassified = wimp_df[wimp_df['exit_status']=='Unclassified']\n",
    "wimp_df_unclassified.shape"
   ]
  },
  {
   "cell_type": "code",
   "execution_count": 5,
   "id": "6263eee2-bd11-4fc7-95cd-4241ceb088ee",
   "metadata": {},
   "outputs": [
    {
     "data": {
      "text/plain": [
       "22744     ALR972_pass_477b7245_6-0072.fastq\n",
       "22745     ALR972_pass_477b7245_6-0072.fastq\n",
       "22746     ALR972_pass_477b7245_6-0072.fastq\n",
       "22747     ALR972_pass_477b7245_6-0072.fastq\n",
       "22748     ALR972_pass_477b7245_6-0072.fastq\n",
       "                        ...                \n",
       "36827    ALR972_pass_477b7245_28-0060.fastq\n",
       "36828    ALR972_pass_477b7245_28-0060.fastq\n",
       "36829    ALR972_pass_477b7245_28-0060.fastq\n",
       "36830    ALR972_pass_477b7245_28-0060.fastq\n",
       "36831    ALR972_pass_477b7245_28-0060.fastq\n",
       "Name: filename, Length: 14088, dtype: object"
      ]
     },
     "execution_count": 5,
     "metadata": {},
     "output_type": "execute_result"
    }
   ],
   "source": [
    "wimp_df_unclassified_filename = wimp_df_unclassified['filename']\n",
    "wimp_df_unclassified_filename"
   ]
  },
  {
   "cell_type": "code",
   "execution_count": null,
   "id": "63037d77-909c-40ef-bc91-7b7555e775dc",
   "metadata": {},
   "outputs": [
    {
     "data": {
      "text/plain": [
       "22744    951ad3e5-b0f6-441a-9ab1-615fe5e13766\n",
       "22745    173e35b3-042d-4302-bd91-df97cd35ffa9\n",
       "22746    646fc3f0-3dfd-43cb-93cd-deb16b849baf\n",
       "22747    b675abc5-8361-400e-87d6-990af0ee22f8\n",
       "22748    a356e374-ee84-4e59-879e-8c6ec8af0f93\n",
       "                         ...                 \n",
       "36827    a99c6e06-e448-4c2e-bb27-e3f6cfbb8a50\n",
       "36828    e505b7aa-d998-472c-bafe-909a291da706\n",
       "36829    63ac47ca-7919-47f3-a266-9a29e61b1fe1\n",
       "36830    7fadd41c-698e-4753-a5fc-17516c3965a5\n",
       "36831    941ae3ac-8f04-4289-8ce4-fda693863e83\n",
       "Name: readid, Length: 14088, dtype: object"
      ]
     },
     "execution_count": 6,
     "metadata": {},
     "output_type": "execute_result"
    }
   ],
   "source": [
    "wimp_df_unclassified_readid = wimp_df_unclassified['readid']\n",
    "wimp_df_unclassified_readid"
   ]
  },
  {
   "cell_type": "code",
   "execution_count": 13,
   "id": "73e139b3-6d3d-4e05-a68e-364630c85a48",
   "metadata": {},
   "outputs": [
    {
     "ename": "KeyError",
     "evalue": "0",
     "output_type": "error",
     "traceback": [
      "\u001b[0;31m---------------------------------------------------------------------------\u001b[0m",
      "\u001b[0;31mKeyError\u001b[0m                                  Traceback (most recent call last)",
      "File \u001b[0;32m~/Dropbox/Shim_Macbook_Air/Desktop/Pro_Nanopore_microbiome/venv/lib/python3.9/site-packages/pandas/core/indexes/base.py:3803\u001b[0m, in \u001b[0;36mIndex.get_loc\u001b[0;34m(self, key, method, tolerance)\u001b[0m\n\u001b[1;32m   3802\u001b[0m \u001b[38;5;28;01mtry\u001b[39;00m:\n\u001b[0;32m-> 3803\u001b[0m     \u001b[38;5;28;01mreturn\u001b[39;00m \u001b[38;5;28;43mself\u001b[39;49m\u001b[38;5;241;43m.\u001b[39;49m\u001b[43m_engine\u001b[49m\u001b[38;5;241;43m.\u001b[39;49m\u001b[43mget_loc\u001b[49m\u001b[43m(\u001b[49m\u001b[43mcasted_key\u001b[49m\u001b[43m)\u001b[49m\n\u001b[1;32m   3804\u001b[0m \u001b[38;5;28;01mexcept\u001b[39;00m \u001b[38;5;167;01mKeyError\u001b[39;00m \u001b[38;5;28;01mas\u001b[39;00m err:\n",
      "File \u001b[0;32m~/Dropbox/Shim_Macbook_Air/Desktop/Pro_Nanopore_microbiome/venv/lib/python3.9/site-packages/pandas/_libs/index.pyx:138\u001b[0m, in \u001b[0;36mpandas._libs.index.IndexEngine.get_loc\u001b[0;34m()\u001b[0m\n",
      "File \u001b[0;32m~/Dropbox/Shim_Macbook_Air/Desktop/Pro_Nanopore_microbiome/venv/lib/python3.9/site-packages/pandas/_libs/index.pyx:165\u001b[0m, in \u001b[0;36mpandas._libs.index.IndexEngine.get_loc\u001b[0;34m()\u001b[0m\n",
      "File \u001b[0;32mpandas/_libs/hashtable_class_helper.pxi:2263\u001b[0m, in \u001b[0;36mpandas._libs.hashtable.Int64HashTable.get_item\u001b[0;34m()\u001b[0m\n",
      "File \u001b[0;32mpandas/_libs/hashtable_class_helper.pxi:2273\u001b[0m, in \u001b[0;36mpandas._libs.hashtable.Int64HashTable.get_item\u001b[0;34m()\u001b[0m\n",
      "\u001b[0;31mKeyError\u001b[0m: 0",
      "\nThe above exception was the direct cause of the following exception:\n",
      "\u001b[0;31mKeyError\u001b[0m                                  Traceback (most recent call last)",
      "Cell \u001b[0;32mIn[13], line 3\u001b[0m\n\u001b[1;32m      1\u001b[0m \u001b[38;5;66;03m#wimp_df_unclassified_filename_0 = '_'.join(wimp_df_unclassified_filename[0].split('-')[0].split('_')[7:11])\u001b[39;00m\n\u001b[1;32m      2\u001b[0m \u001b[38;5;66;03m#wimp_df_unclassified_filename_0 = '_'.join(wimp_df_unclassified_filename[0].split('-')[0].split('_')[7:11])\u001b[39;00m\n\u001b[0;32m----> 3\u001b[0m wimp_df_unclassified_filename_0 \u001b[38;5;241m=\u001b[39m \u001b[43mwimp_df_unclassified_filename\u001b[49m\u001b[43m[\u001b[49m\u001b[38;5;241;43m0\u001b[39;49m\u001b[43m]\u001b[49m\n",
      "File \u001b[0;32m~/Dropbox/Shim_Macbook_Air/Desktop/Pro_Nanopore_microbiome/venv/lib/python3.9/site-packages/pandas/core/series.py:981\u001b[0m, in \u001b[0;36mSeries.__getitem__\u001b[0;34m(self, key)\u001b[0m\n\u001b[1;32m    978\u001b[0m     \u001b[38;5;28;01mreturn\u001b[39;00m \u001b[38;5;28mself\u001b[39m\u001b[38;5;241m.\u001b[39m_values[key]\n\u001b[1;32m    980\u001b[0m \u001b[38;5;28;01melif\u001b[39;00m key_is_scalar:\n\u001b[0;32m--> 981\u001b[0m     \u001b[38;5;28;01mreturn\u001b[39;00m \u001b[38;5;28;43mself\u001b[39;49m\u001b[38;5;241;43m.\u001b[39;49m\u001b[43m_get_value\u001b[49m\u001b[43m(\u001b[49m\u001b[43mkey\u001b[49m\u001b[43m)\u001b[49m\n\u001b[1;32m    983\u001b[0m \u001b[38;5;28;01mif\u001b[39;00m is_hashable(key):\n\u001b[1;32m    984\u001b[0m     \u001b[38;5;66;03m# Otherwise index.get_value will raise InvalidIndexError\u001b[39;00m\n\u001b[1;32m    985\u001b[0m     \u001b[38;5;28;01mtry\u001b[39;00m:\n\u001b[1;32m    986\u001b[0m         \u001b[38;5;66;03m# For labels that don't resolve as scalars like tuples and frozensets\u001b[39;00m\n",
      "File \u001b[0;32m~/Dropbox/Shim_Macbook_Air/Desktop/Pro_Nanopore_microbiome/venv/lib/python3.9/site-packages/pandas/core/series.py:1089\u001b[0m, in \u001b[0;36mSeries._get_value\u001b[0;34m(self, label, takeable)\u001b[0m\n\u001b[1;32m   1086\u001b[0m     \u001b[38;5;28;01mreturn\u001b[39;00m \u001b[38;5;28mself\u001b[39m\u001b[38;5;241m.\u001b[39m_values[label]\n\u001b[1;32m   1088\u001b[0m \u001b[38;5;66;03m# Similar to Index.get_value, but we do not fall back to positional\u001b[39;00m\n\u001b[0;32m-> 1089\u001b[0m loc \u001b[38;5;241m=\u001b[39m \u001b[38;5;28;43mself\u001b[39;49m\u001b[38;5;241;43m.\u001b[39;49m\u001b[43mindex\u001b[49m\u001b[38;5;241;43m.\u001b[39;49m\u001b[43mget_loc\u001b[49m\u001b[43m(\u001b[49m\u001b[43mlabel\u001b[49m\u001b[43m)\u001b[49m\n\u001b[1;32m   1090\u001b[0m \u001b[38;5;28;01mreturn\u001b[39;00m \u001b[38;5;28mself\u001b[39m\u001b[38;5;241m.\u001b[39mindex\u001b[38;5;241m.\u001b[39m_get_values_for_loc(\u001b[38;5;28mself\u001b[39m, loc, label)\n",
      "File \u001b[0;32m~/Dropbox/Shim_Macbook_Air/Desktop/Pro_Nanopore_microbiome/venv/lib/python3.9/site-packages/pandas/core/indexes/base.py:3805\u001b[0m, in \u001b[0;36mIndex.get_loc\u001b[0;34m(self, key, method, tolerance)\u001b[0m\n\u001b[1;32m   3803\u001b[0m     \u001b[38;5;28;01mreturn\u001b[39;00m \u001b[38;5;28mself\u001b[39m\u001b[38;5;241m.\u001b[39m_engine\u001b[38;5;241m.\u001b[39mget_loc(casted_key)\n\u001b[1;32m   3804\u001b[0m \u001b[38;5;28;01mexcept\u001b[39;00m \u001b[38;5;167;01mKeyError\u001b[39;00m \u001b[38;5;28;01mas\u001b[39;00m err:\n\u001b[0;32m-> 3805\u001b[0m     \u001b[38;5;28;01mraise\u001b[39;00m \u001b[38;5;167;01mKeyError\u001b[39;00m(key) \u001b[38;5;28;01mfrom\u001b[39;00m \u001b[38;5;21;01merr\u001b[39;00m\n\u001b[1;32m   3806\u001b[0m \u001b[38;5;28;01mexcept\u001b[39;00m \u001b[38;5;167;01mTypeError\u001b[39;00m:\n\u001b[1;32m   3807\u001b[0m     \u001b[38;5;66;03m# If we have a listlike key, _check_indexing_error will raise\u001b[39;00m\n\u001b[1;32m   3808\u001b[0m     \u001b[38;5;66;03m#  InvalidIndexError. Otherwise we fall through and re-raise\u001b[39;00m\n\u001b[1;32m   3809\u001b[0m     \u001b[38;5;66;03m#  the TypeError.\u001b[39;00m\n\u001b[1;32m   3810\u001b[0m     \u001b[38;5;28mself\u001b[39m\u001b[38;5;241m.\u001b[39m_check_indexing_error(key)\n",
      "\u001b[0;31mKeyError\u001b[0m: 0"
     ]
    }
   ],
   "source": [
    "#wimp_df_unclassified_filename_0 = '_'.join(wimp_df_unclassified_filename[0].split('-')[0].split('_')[7:11])\n",
    "#wimp_df_unclassified_filename_0 = '_'.join(wimp_df_unclassified_filename[0].split('-')[0].split('_')[7:11])\n",
    "wimp_df_unclassified_filename_0 = wimp_df_unclassified_filename[0]"
   ]
  },
  {
   "cell_type": "code",
   "execution_count": null,
   "id": "ee77c8f7-8fa2-4d5e-8091-777be01655ca",
   "metadata": {},
   "outputs": [],
   "source": [
    "# change path to import nanopore fasta files\n",
    "path = '../Data/pass_fastq/'\n",
    "gzips_list = glob.glob(path + '*.gz')\n",
    "#gzips_list"
   ]
  },
  {
   "cell_type": "code",
   "execution_count": null,
   "id": "f882f416-d512-43cb-8469-3e34d70c72c3",
   "metadata": {},
   "outputs": [],
   "source": [
    "for i, row in wimp_df_unclassified.iterrows():\n",
    "    wimp_df_unclassified_filename = '_'.join(row['filename'].split('-')[0].split('_')[7:11])\n",
    "    wimp_df_unclassified_readid = row['readid']\n",
    "    #'AGE883_pass_85baa9f1_11'\n",
    "    for f in gzips_list:\n",
    "        f_0 = f.find(wimp_df_unclassified_filename)\n",
    "        if f_0 != -1:\n",
    "            f_found = f\n",
    "            #f_found_name = '_'.join(f.split('/')[-1].split('_'))\n",
    "            #'AGE883_pass_85baa9f1_11.fastq.gz'\n",
    "            with gzip.open(f_found,'rb') as f_fasta: # gives out bytes\n",
    "                file_content=f_fasta.readlines()\n",
    "                for line in file_content:\n",
    "                    f_decode = line.decode(\"utf-8\") # bytes into string\n",
    "                    readid_0 = f_decode.find(wimp_df_unclassified_readid)\n",
    "                    if readid_0 != -1:\n",
    "                        readid_found = f_decode\n",
    "                        readid_seq = file_content[file_content.index(line)+1].decode(\"utf-8\") # next line that is a sequence\n",
    "                        with open(file_name+'.fasta', 'a') as file:\n",
    "                            file.write(\">\" + wimp_df_unclassified_readid + '|' + wimp_df_unclassified_filename + '\\n' + readid_seq)\n",
    "                            "
   ]
  },
  {
   "cell_type": "code",
   "execution_count": null,
   "id": "b6e7b307-a174-444d-88fa-63eab7dc7836",
   "metadata": {},
   "outputs": [],
   "source": [
    "\n"
   ]
  },
  {
   "cell_type": "markdown",
   "id": "b950feb3-cbfd-41ac-b1f7-4e5b15828f58",
   "metadata": {},
   "source": [
    "### code test"
   ]
  },
  {
   "cell_type": "code",
   "execution_count": null,
   "id": "e4faff72-cf56-4169-9a8d-7a272ba0e2d2",
   "metadata": {},
   "outputs": [],
   "source": [
    "for f in gzips_list:\n",
    "    f_0 = f.find(wimp_df_unclassified_filename_0)\n",
    "    if f_0 != -1:\n",
    "        f_found = f\n",
    "f_found"
   ]
  },
  {
   "cell_type": "code",
   "execution_count": null,
   "id": "19e67e5e-47df-4771-b8f3-02a54a0ff6b8",
   "metadata": {},
   "outputs": [],
   "source": [
    "f_found_name = '_'.join(f_found.split('/')[-1].split('_'))\n",
    "f_found_name"
   ]
  },
  {
   "cell_type": "code",
   "execution_count": null,
   "id": "0b93b404-b1ad-422d-b6db-c8929f8d86ac",
   "metadata": {},
   "outputs": [],
   "source": [
    "with gzip.open(f_found,'rb') as f: # gives out bytes\n",
    "    file_content=f.readlines()\n",
    "print(file_content[0])"
   ]
  },
  {
   "cell_type": "code",
   "execution_count": null,
   "id": "6f394bd6-001b-4564-a3d5-7a2d7f1862bb",
   "metadata": {},
   "outputs": [],
   "source": [
    "for f in file_content:\n",
    "    f_decode = f.decode(\"utf-8\") # bytes into string\n",
    "    readid_0 = f_decode.find(wimp_df_unclassified_readid[0])\n",
    "    if readid_0 != -1:\n",
    "        readid_found = f_decode\n",
    "        readid_seq = file_content[file_content.index(f)+1].decode(\"utf-8\") # next line that is a sequence\n",
    "readid_found\n",
    "readid_seq\n",
    "#f_index\n"
   ]
  },
  {
   "cell_type": "code",
   "execution_count": null,
   "id": "493237e3-54bc-4684-b2bd-5dbbb9a5a7d3",
   "metadata": {},
   "outputs": [],
   "source": [
    "file_content[257]"
   ]
  },
  {
   "cell_type": "code",
   "execution_count": null,
   "id": "f7430498-22d0-48a5-9656-c4765ad0ad8f",
   "metadata": {},
   "outputs": [],
   "source": [
    "with open('readme.fasta', 'w') as f:\n",
    "    f.write(\">\" + wimp_df_unclassified_readid[0] + '|' + wimp_df_unclassified_filename_0 + '\\n' + readid_seq)"
   ]
  },
  {
   "cell_type": "code",
   "execution_count": null,
   "id": "885b4211-8544-4bb2-8cc6-328c0a33fab1",
   "metadata": {},
   "outputs": [],
   "source": []
  }
 ],
 "metadata": {
  "kernelspec": {
   "display_name": "Python 3 (ipykernel)",
   "language": "python",
   "name": "python3"
  },
  "language_info": {
   "codemirror_mode": {
    "name": "ipython",
    "version": 3
   },
   "file_extension": ".py",
   "mimetype": "text/x-python",
   "name": "python",
   "nbconvert_exporter": "python",
   "pygments_lexer": "ipython3",
   "version": "3.9.5"
  }
 },
 "nbformat": 4,
 "nbformat_minor": 5
}
