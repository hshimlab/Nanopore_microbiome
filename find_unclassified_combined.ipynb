{
 "cells": [
  {
   "cell_type": "markdown",
   "id": "fec1779e-7d8a-4012-abb2-3fef30ff695f",
   "metadata": {},
   "source": [
    "# Find unclassified nanopore sequences in one file\n",
    "## Python codes to extract unclassified sequences from nanopore combined fastq.gz (basecalled gunzipped) files using WIMP classification in csv\n",
    "### Author: Hyunjin Shim; Date: 20230104"
   ]
  },
  {
   "cell_type": "code",
   "execution_count": 1,
   "id": "f6375e77-8f25-43a2-b4da-b9e981802328",
   "metadata": {},
   "outputs": [],
   "source": [
    "import os\n",
    "import glob\n",
    "import pandas as pd\n",
    "import gzip"
   ]
  },
  {
   "cell_type": "code",
   "execution_count": 2,
   "id": "5a59360f-2256-493a-8575-00e2f3cf029a",
   "metadata": {},
   "outputs": [
    {
     "data": {
      "text/plain": [
       "['../Data/WIMP/classification_wimp_Saliva1_R2.csv',\n",
       " '../Data/WIMP/classification_wimp_Stool2_R1.csv',\n",
       " '../Data/WIMP/classification_wimp_Saliva1_R1.csv',\n",
       " '../Data/WIMP/classification_wimp_Stool2_R2.csv',\n",
       " '../Data/WIMP/classification_wimp_Saliva3_R1.csv',\n",
       " '../Data/WIMP/classification_wimp_Saliva3_R2.csv',\n",
       " '../Data/WIMP/classification_wimp_Stool1_R1.csv',\n",
       " '../Data/WIMP/classification_wimp_Saliva2_R2.csv',\n",
       " '../Data/WIMP/classification_wimp_Stool1_R2.csv',\n",
       " '../Data/WIMP/classification_wimp_Saliva2_R1.csv']"
      ]
     },
     "execution_count": 2,
     "metadata": {},
     "output_type": "execute_result"
    }
   ],
   "source": [
    "# change path to import nanopore classification csv files\n",
    "path = '../Data/WIMP/'\n",
    "files_list = glob.glob(path + 'classification_wimp_*')\n",
    "files_list"
   ]
  },
  {
   "cell_type": "code",
   "execution_count": 16,
   "id": "ee98c05a-2a3c-4682-bf60-66e1a68a6cae",
   "metadata": {},
   "outputs": [
    {
     "data": {
      "text/plain": [
       "'classification_wimp_Saliva2_R2'"
      ]
     },
     "execution_count": 16,
     "metadata": {},
     "output_type": "execute_result"
    }
   ],
   "source": [
    "# change file name individually and run the entire for loop\n",
    "file_now = files_list[7]\n",
    "file_name = '_'.join(file_now.split('/')[-1].split('.')[0:1])\n",
    "file_name"
   ]
  },
  {
   "cell_type": "code",
   "execution_count": 17,
   "id": "57c95371-775d-4822-8985-835c836d3cd6",
   "metadata": {},
   "outputs": [
    {
     "data": {
      "text/plain": [
       "(4209, 9)"
      ]
     },
     "execution_count": 17,
     "metadata": {},
     "output_type": "execute_result"
    }
   ],
   "source": [
    "wimp_df = pd.read_csv(file_now)\n",
    "wimp_df_unclassified = wimp_df[wimp_df['exit_status']=='Unclassified']\n",
    "wimp_df_unclassified.shape"
   ]
  },
  {
   "cell_type": "code",
   "execution_count": 18,
   "id": "41a27812-b8e8-4efb-851b-f2f3e5e18593",
   "metadata": {},
   "outputs": [
    {
     "data": {
      "text/plain": [
       "94121    f40e15ea-3e4d-4bc4-b0c1-3c28b681b572\n",
       "94122    bd1b1e58-0d6d-474e-97b1-6a238cf2f7aa\n",
       "94123    2f6a2270-e7bd-40b7-8d2a-a6c14ead6e86\n",
       "94124    d85e503e-acc9-41fe-ad7e-474c2bdfb783\n",
       "94125    fb0c73e6-70ee-4e17-868e-7d8e839d390d\n",
       "                         ...                 \n",
       "98325    a2991877-836b-47a1-bc72-56b766a8c513\n",
       "98326    68299857-049b-45c3-a8b4-2cebe5cf225e\n",
       "98327    5f022395-f90f-4f3e-81a2-27a790151c79\n",
       "98328    d4d55598-3e25-478c-ae9c-323b7f5130d9\n",
       "98329    de1331cb-2f9b-4351-9d0a-4f24a386e384\n",
       "Name: readid, Length: 4209, dtype: object"
      ]
     },
     "execution_count": 18,
     "metadata": {},
     "output_type": "execute_result"
    }
   ],
   "source": [
    "wimp_df_unclassified_readid = wimp_df_unclassified['readid']\n",
    "wimp_df_unclassified_readid"
   ]
  },
  {
   "cell_type": "code",
   "execution_count": null,
   "id": "a5ef85e7-d800-4dad-9485-0edfc12b6efb",
   "metadata": {},
   "outputs": [],
   "source": [
    "# # change path to import nanopore fasta files\n",
    "# path = '../Data/pass_fastq/'\n",
    "# gzips_list = glob.glob(path + '*.gz')\n",
    "# #gzips_list"
   ]
  },
  {
   "cell_type": "code",
   "execution_count": 19,
   "id": "4a6f2c26-6c83-48bc-a7c2-e59f9261213c",
   "metadata": {},
   "outputs": [],
   "source": [
    "wimp_df_unclassified_filename = '../Data/pass_fastq/Saliva2_R2.fastq.gz' #change filename here\n",
    "\n",
    "with gzip.open(wimp_df_unclassified_filename,'rb') as f_fasta: # gives out bytes\n",
    "    file_content=f_fasta.readlines()\n",
    "    for i, row in wimp_df_unclassified.iterrows():\n",
    "        wimp_df_unclassified_readid = row['readid']\n",
    "        for line in file_content:\n",
    "            f_decode = line.decode(\"utf-8\") # bytes into string\n",
    "            readid_0 = f_decode.find(wimp_df_unclassified_readid)\n",
    "            if readid_0 != -1:\n",
    "                readid_found = f_decode\n",
    "                readid_seq = file_content[file_content.index(line)+1].decode(\"utf-8\") # next line that is a sequence\n",
    "                with open(file_name+'.fasta', 'a') as file:\n",
    "                    file.write(\">\" + wimp_df_unclassified_readid + '|' + file_name + '\\n' + readid_seq)\n",
    "                            "
   ]
  },
  {
   "cell_type": "code",
   "execution_count": null,
   "id": "4077e7b5-12b7-4e5b-a6ad-38cf261a1375",
   "metadata": {},
   "outputs": [],
   "source": [
    "# for i, row in wimp_df_unclassified.iterrows():\n",
    "#     wimp_df_unclassified_filename = 'Saliva2_R1' #change filename here\n",
    "#     wimp_df_unclassified_readid = row['readid']\n",
    "#     #'AGE883_pass_85baa9f1_11'\n",
    "#     for f in gzips_list:\n",
    "#         f_0 = f.find(wimp_df_unclassified_filename)\n",
    "#         if f_0 != -1:\n",
    "#             f_found = f\n",
    "#             #f_found_name = '_'.join(f.split('/')[-1].split('_'))\n",
    "#             #'AGE883_pass_85baa9f1_11.fastq.gz'\n",
    "#             with gzip.open(f_found,'rb') as f_fasta: # gives out bytes\n",
    "#                 file_content=f_fasta.readlines()\n",
    "#                 for line in file_content:\n",
    "#                     f_decode = line.decode(\"utf-8\") # bytes into string\n",
    "#                     readid_0 = f_decode.find(wimp_df_unclassified_readid)\n",
    "#                     if readid_0 != -1:\n",
    "#                         readid_found = f_decode\n",
    "#                         readid_seq = file_content[file_content.index(line)+1].decode(\"utf-8\") # next line that is a sequence\n",
    "#                         with open(file_name+'.fasta', 'a') as file:\n",
    "#                             file.write(\">\" + wimp_df_unclassified_readid + '|' + wimp_df_unclassified_filename + '\\n' + readid_seq)\n",
    "                            "
   ]
  },
  {
   "cell_type": "code",
   "execution_count": null,
   "id": "783a350d-82f2-49e9-b794-6f10e16cec23",
   "metadata": {},
   "outputs": [],
   "source": []
  }
 ],
 "metadata": {
  "kernelspec": {
   "display_name": "Python 3 (ipykernel)",
   "language": "python",
   "name": "python3"
  },
  "language_info": {
   "codemirror_mode": {
    "name": "ipython",
    "version": 3
   },
   "file_extension": ".py",
   "mimetype": "text/x-python",
   "name": "python",
   "nbconvert_exporter": "python",
   "pygments_lexer": "ipython3",
   "version": "3.9.5"
  }
 },
 "nbformat": 4,
 "nbformat_minor": 5
}
