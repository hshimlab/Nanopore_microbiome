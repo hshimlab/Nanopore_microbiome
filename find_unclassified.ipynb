{
 "cells": [
  {
   "cell_type": "markdown",
   "id": "ef81865a-22f9-4303-a671-666bac796fd0",
   "metadata": {},
   "source": [
    "# Find unclassified nanopore sequences\n",
    "## Python codes to extract unclassified sequences from nanopore fastq.gz (basecalled gunzipped) files using WIMP classification in csv\n",
    "### Author: Hyunjin Shim; Date: 20221130"
   ]
  },
  {
   "cell_type": "code",
   "execution_count": 1,
   "id": "3f7a0c2f-86b0-42c8-88d8-61e61054b9bd",
   "metadata": {},
   "outputs": [],
   "source": [
    "import os\n",
    "import glob\n",
    "import pandas as pd\n",
    "import gzip"
   ]
  },
  {
   "cell_type": "code",
   "execution_count": 2,
   "id": "8eed7d6b-e215-4f20-bd1d-1e0683b854ee",
   "metadata": {},
   "outputs": [
    {
     "data": {
      "text/plain": [
       "['../Data/WIMP/classification_wimp_Saliva1_R2.csv',\n",
       " '../Data/WIMP/classification_wimp_Stool2_R1.csv',\n",
       " '../Data/WIMP/classification_wimp_Saliva1_R1.csv',\n",
       " '../Data/WIMP/classification_wimp_Stool2_R2.csv',\n",
       " '../Data/WIMP/classification_wimp_Saliva3_R1.csv',\n",
       " '../Data/WIMP/classification_wimp_Saliva3_R2.csv',\n",
       " '../Data/WIMP/classification_wimp_Stool1_R1.csv',\n",
       " '../Data/WIMP/classification_wimp_Saliva2_R2.csv',\n",
       " '../Data/WIMP/classification_wimp_Stool1_R2.csv',\n",
       " '../Data/WIMP/classification_wimp_Saliva2_R1.csv']"
      ]
     },
     "execution_count": 2,
     "metadata": {},
     "output_type": "execute_result"
    }
   ],
   "source": [
    "# change path to import nanopore classification csv files\n",
    "path = '../Data/WIMP/'\n",
    "files_list = glob.glob(path + 'classification_wimp_*')\n",
    "files_list"
   ]
  },
  {
   "cell_type": "code",
   "execution_count": 45,
   "id": "27a3b517-2aca-4407-ac79-ba1273e3ed15",
   "metadata": {},
   "outputs": [
    {
     "data": {
      "text/plain": [
       "'classification_wimp_Saliva3_R2'"
      ]
     },
     "execution_count": 45,
     "metadata": {},
     "output_type": "execute_result"
    }
   ],
   "source": [
    "# change file name individually and run the entire for loop\n",
    "file_now = files_list[5]\n",
    "file_name = '_'.join(file_now.split('/')[-1].split('.')[0:1])\n",
    "file_name"
   ]
  },
  {
   "cell_type": "code",
   "execution_count": 46,
   "id": "ee6c43fd-41b4-4af5-b318-f4052870c700",
   "metadata": {},
   "outputs": [
    {
     "data": {
      "text/plain": [
       "(6301, 9)"
      ]
     },
     "execution_count": 46,
     "metadata": {},
     "output_type": "execute_result"
    }
   ],
   "source": [
    "wimp_df = pd.read_csv(file_now)\n",
    "wimp_df_unclassified = wimp_df[wimp_df['exit_status']=='Unclassified']\n",
    "wimp_df_unclassified.shape"
   ]
  },
  {
   "cell_type": "code",
   "execution_count": 47,
   "id": "6263eee2-bd11-4fc7-95cd-4241ceb088ee",
   "metadata": {},
   "outputs": [
    {
     "data": {
      "text/plain": [
       "0       fastq_pass_ATJ376_pass_562f436b_24-0019.fastq\n",
       "1       fastq_pass_ATJ376_pass_562f436b_24-0019.fastq\n",
       "2       fastq_pass_ATJ376_pass_562f436b_24-0019.fastq\n",
       "3       fastq_pass_ATJ376_pass_562f436b_24-0019.fastq\n",
       "4       fastq_pass_ATJ376_pass_562f436b_24-0019.fastq\n",
       "                            ...                      \n",
       "6296    fastq_pass_ATJ376_pass_562f436b_13-0004.fastq\n",
       "6297    fastq_pass_ATJ376_pass_562f436b_13-0004.fastq\n",
       "6298    fastq_pass_ATJ376_pass_562f436b_13-0004.fastq\n",
       "6299    fastq_pass_ATJ376_pass_562f436b_13-0004.fastq\n",
       "6300    fastq_pass_ATJ376_pass_562f436b_13-0004.fastq\n",
       "Name: filename, Length: 6301, dtype: object"
      ]
     },
     "execution_count": 47,
     "metadata": {},
     "output_type": "execute_result"
    }
   ],
   "source": [
    "wimp_df_unclassified_filename = wimp_df_unclassified['filename']\n",
    "wimp_df_unclassified_filename"
   ]
  },
  {
   "cell_type": "code",
   "execution_count": 48,
   "id": "63037d77-909c-40ef-bc91-7b7555e775dc",
   "metadata": {},
   "outputs": [
    {
     "data": {
      "text/plain": [
       "0       1e970ba1-7f51-4287-bfec-dedc76d8a395\n",
       "1       5cfa055b-68a4-4aa4-a369-7dc45e76d3a6\n",
       "2       fdf899a4-fcd5-4b53-8d83-f3b54ee226b8\n",
       "3       71912e26-7bbb-47aa-ae04-736e3540e0b8\n",
       "4       34f4364f-3702-4618-8a67-e1191a47d2a8\n",
       "                        ...                 \n",
       "6296    4f730c11-c77f-4e2a-853a-ec7ecd653a71\n",
       "6297    a207e896-6751-476e-bf33-6f910f9bf8c0\n",
       "6298    757cb35e-c648-4e67-a526-6e48d5a98173\n",
       "6299    1f8f8577-2131-45c3-a3d1-895ce04e2f4b\n",
       "6300    1c92002a-f997-4cb9-a779-474c580689d6\n",
       "Name: readid, Length: 6301, dtype: object"
      ]
     },
     "execution_count": 48,
     "metadata": {},
     "output_type": "execute_result"
    }
   ],
   "source": [
    "wimp_df_unclassified_readid = wimp_df_unclassified['readid']\n",
    "wimp_df_unclassified_readid"
   ]
  },
  {
   "cell_type": "code",
   "execution_count": 49,
   "id": "73e139b3-6d3d-4e05-a68e-364630c85a48",
   "metadata": {},
   "outputs": [],
   "source": [
    "#wimp_df_unclassified_filename_0 = '_'.join(wimp_df_unclassified_filename[0].split('-')[0].split('_')[7:11])\n",
    "#wimp_df_unclassified_filename_0 = '_'.join(wimp_df_unclassified_filename[0].split('-')[0].split('_')[7:11])\n",
    "#wimp_df_unclassified_filename_0 = wimp_df_unclassified_filename"
   ]
  },
  {
   "cell_type": "code",
   "execution_count": 50,
   "id": "ee77c8f7-8fa2-4d5e-8091-777be01655ca",
   "metadata": {},
   "outputs": [],
   "source": [
    "# change path to import nanopore fasta files\n",
    "path = '../Data/pass_fastq/'\n",
    "gzips_list = glob.glob(path + '*.gz')\n",
    "#gzips_list"
   ]
  },
  {
   "cell_type": "code",
   "execution_count": 51,
   "id": "f882f416-d512-43cb-8469-3e34d70c72c3",
   "metadata": {},
   "outputs": [],
   "source": [
    "for i, row in wimp_df_unclassified.iterrows():\n",
    "    wimp_df_unclassified_filename = '_'.join(row['filename'].split('-')[0].split('_')[2:6])\n",
    "    wimp_df_unclassified_readid = row['readid']\n",
    "    #'AGE883_pass_85baa9f1_11'\n",
    "    for f in gzips_list:\n",
    "        f_0 = f.find(wimp_df_unclassified_filename)\n",
    "        if f_0 != -1:\n",
    "            f_found = f\n",
    "            #f_found_name = '_'.join(f.split('/')[-1].split('_'))\n",
    "            #'AGE883_pass_85baa9f1_11.fastq.gz'\n",
    "            with gzip.open(f_found,'rb') as f_fasta: # gives out bytes\n",
    "                file_content=f_fasta.readlines()\n",
    "                for line in file_content:\n",
    "                    f_decode = line.decode(\"utf-8\") # bytes into string\n",
    "                    readid_0 = f_decode.find(wimp_df_unclassified_readid)\n",
    "                    if readid_0 != -1:\n",
    "                        readid_found = f_decode\n",
    "                        readid_seq = file_content[file_content.index(line)+1].decode(\"utf-8\") # next line that is a sequence\n",
    "                        with open(file_name+'.fasta', 'a') as file:\n",
    "                            file.write(\">\" + wimp_df_unclassified_readid + '|' + wimp_df_unclassified_filename + '\\n' + readid_seq)\n",
    "                            "
   ]
  },
  {
   "cell_type": "code",
   "execution_count": null,
   "id": "b6e7b307-a174-444d-88fa-63eab7dc7836",
   "metadata": {},
   "outputs": [],
   "source": [
    "\n"
   ]
  },
  {
   "cell_type": "markdown",
   "id": "b950feb3-cbfd-41ac-b1f7-4e5b15828f58",
   "metadata": {},
   "source": [
    "### code test"
   ]
  },
  {
   "cell_type": "code",
   "execution_count": null,
   "id": "e4faff72-cf56-4169-9a8d-7a272ba0e2d2",
   "metadata": {},
   "outputs": [],
   "source": [
    "for f in gzips_list:\n",
    "    f_0 = f.find(wimp_df_unclassified_filename_0)\n",
    "    if f_0 != -1:\n",
    "        f_found = f\n",
    "f_found"
   ]
  },
  {
   "cell_type": "code",
   "execution_count": null,
   "id": "19e67e5e-47df-4771-b8f3-02a54a0ff6b8",
   "metadata": {},
   "outputs": [],
   "source": [
    "f_found_name = '_'.join(f_found.split('/')[-1].split('_'))\n",
    "f_found_name"
   ]
  },
  {
   "cell_type": "code",
   "execution_count": null,
   "id": "0b93b404-b1ad-422d-b6db-c8929f8d86ac",
   "metadata": {},
   "outputs": [],
   "source": [
    "with gzip.open(f_found,'rb') as f: # gives out bytes\n",
    "    file_content=f.readlines()\n",
    "print(file_content[0])"
   ]
  },
  {
   "cell_type": "code",
   "execution_count": null,
   "id": "6f394bd6-001b-4564-a3d5-7a2d7f1862bb",
   "metadata": {},
   "outputs": [],
   "source": [
    "for f in file_content:\n",
    "    f_decode = f.decode(\"utf-8\") # bytes into string\n",
    "    readid_0 = f_decode.find(wimp_df_unclassified_readid[0])\n",
    "    if readid_0 != -1:\n",
    "        readid_found = f_decode\n",
    "        readid_seq = file_content[file_content.index(f)+1].decode(\"utf-8\") # next line that is a sequence\n",
    "readid_found\n",
    "readid_seq\n",
    "#f_index\n"
   ]
  },
  {
   "cell_type": "code",
   "execution_count": null,
   "id": "493237e3-54bc-4684-b2bd-5dbbb9a5a7d3",
   "metadata": {},
   "outputs": [],
   "source": [
    "file_content[257]"
   ]
  },
  {
   "cell_type": "code",
   "execution_count": null,
   "id": "f7430498-22d0-48a5-9656-c4765ad0ad8f",
   "metadata": {},
   "outputs": [],
   "source": [
    "with open('readme.fasta', 'w') as f:\n",
    "    f.write(\">\" + wimp_df_unclassified_readid[0] + '|' + wimp_df_unclassified_filename_0 + '\\n' + readid_seq)"
   ]
  },
  {
   "cell_type": "code",
   "execution_count": null,
   "id": "885b4211-8544-4bb2-8cc6-328c0a33fab1",
   "metadata": {},
   "outputs": [],
   "source": []
  }
 ],
 "metadata": {
  "kernelspec": {
   "display_name": "Python 3 (ipykernel)",
   "language": "python",
   "name": "python3"
  },
  "language_info": {
   "codemirror_mode": {
    "name": "ipython",
    "version": 3
   },
   "file_extension": ".py",
   "mimetype": "text/x-python",
   "name": "python",
   "nbconvert_exporter": "python",
   "pygments_lexer": "ipython3",
   "version": "3.9.5"
  }
 },
 "nbformat": 4,
 "nbformat_minor": 5
}
