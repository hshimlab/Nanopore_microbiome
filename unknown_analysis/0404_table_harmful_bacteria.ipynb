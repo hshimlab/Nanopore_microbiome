{
 "cells": [
  {
   "attachments": {},
   "cell_type": "markdown",
   "metadata": {},
   "source": [
    "##### library"
   ]
  },
  {
   "cell_type": "code",
   "execution_count": 1,
   "metadata": {},
   "outputs": [],
   "source": [
    "import os\n",
    "import glob\n",
    "import pandas as pd\n",
    "import re\n",
    "import collections\n",
    "import csv\n",
    "\n",
    "\n",
    "import matplotlib.pyplot as plt\n",
    "\n",
    "\n",
    "import seaborn as sns\n",
    "import numpy as np"
   ]
  },
  {
   "attachments": {},
   "cell_type": "markdown",
   "metadata": {},
   "source": [
    "### <1> (Table) Compare a list of microbiome (gut) with another list of beneficial or harmful or commensal bacteria\n",
    "- Date : 23/04/04\n",
    "- Author : Jeesu Lee"
   ]
  },
  {
   "attachments": {},
   "cell_type": "markdown",
   "metadata": {},
   "source": [
    "### step1. create dataframe"
   ]
  },
  {
   "cell_type": "code",
   "execution_count": 8,
   "metadata": {},
   "outputs": [
    {
     "data": {
      "text/html": [
       "<div>\n",
       "<style scoped>\n",
       "    .dataframe tbody tr th:only-of-type {\n",
       "        vertical-align: middle;\n",
       "    }\n",
       "\n",
       "    .dataframe tbody tr th {\n",
       "        vertical-align: top;\n",
       "    }\n",
       "\n",
       "    .dataframe thead th {\n",
       "        text-align: right;\n",
       "    }\n",
       "</style>\n",
       "<table border=\"1\" class=\"dataframe\">\n",
       "  <thead>\n",
       "    <tr style=\"text-align: right;\">\n",
       "      <th></th>\n",
       "      <th>Samples</th>\n",
       "      <th>harmful bacteria</th>\n",
       "      <th>number of harmful bacteria</th>\n",
       "    </tr>\n",
       "  </thead>\n",
       "  <tbody>\n",
       "    <tr>\n",
       "      <th>0</th>\n",
       "      <td>Saliva1</td>\n",
       "      <td>NA</td>\n",
       "      <td>NA</td>\n",
       "    </tr>\n",
       "    <tr>\n",
       "      <th>1</th>\n",
       "      <td>Saliva2</td>\n",
       "      <td>NA</td>\n",
       "      <td>NA</td>\n",
       "    </tr>\n",
       "    <tr>\n",
       "      <th>2</th>\n",
       "      <td>Saliva3</td>\n",
       "      <td>Proteobacteria</td>\n",
       "      <td>1120</td>\n",
       "    </tr>\n",
       "    <tr>\n",
       "      <th>3</th>\n",
       "      <td>Saliva3</td>\n",
       "      <td>Bacteroidetes</td>\n",
       "      <td>1633</td>\n",
       "    </tr>\n",
       "    <tr>\n",
       "      <th>4</th>\n",
       "      <td>Stool1</td>\n",
       "      <td>Firmicutes</td>\n",
       "      <td>21152</td>\n",
       "    </tr>\n",
       "    <tr>\n",
       "      <th>5</th>\n",
       "      <td>Stool1</td>\n",
       "      <td>Bacteroidetes</td>\n",
       "      <td>10244</td>\n",
       "    </tr>\n",
       "    <tr>\n",
       "      <th>6</th>\n",
       "      <td>Stool2</td>\n",
       "      <td>Bacteroidetes</td>\n",
       "      <td>3546</td>\n",
       "    </tr>\n",
       "  </tbody>\n",
       "</table>\n",
       "</div>"
      ],
      "text/plain": [
       "   Samples harmful bacteria number of harmful bacteria\n",
       "0  Saliva1               NA                         NA\n",
       "1  Saliva2               NA                         NA\n",
       "2  Saliva3   Proteobacteria                       1120\n",
       "3  Saliva3    Bacteroidetes                       1633\n",
       "4   Stool1       Firmicutes                      21152\n",
       "5   Stool1    Bacteroidetes                      10244\n",
       "6   Stool2    Bacteroidetes                       3546"
      ]
     },
     "execution_count": 8,
     "metadata": {},
     "output_type": "execute_result"
    }
   ],
   "source": [
    "### read csv file\n",
    "harmful_bacteria_from_Samples = pd.read_csv('./harmful_bacteria_from_samples.csv')\n",
    "\n",
    "### create dataframe\n",
    "df = pd.DataFrame(harmful_bacteria_from_Samples)\n",
    "\n",
    "### set display format to remove decimal places\n",
    "pd.options.display.float_format = '{:.0f}'.format\n",
    "\n",
    "### replace 'Nan value' to 'NA'\n",
    "df = df.fillna('NA')\n",
    "\n",
    "### set the index\n",
    "df_indexed = df.set_index([\n",
    "                        'Samples', \n",
    "                        'harmful bacteria',\n",
    "                        'number of harmful bacteria'\n",
    "])\n",
    "\n",
    "df"
   ]
  },
  {
   "attachments": {},
   "cell_type": "markdown",
   "metadata": {},
   "source": [
    "### step2. creat table"
   ]
  },
  {
   "cell_type": "code",
   "execution_count": 7,
   "metadata": {},
   "outputs": [
    {
     "data": {
      "image/png": "[encoded data removed]",
      "text/plain": [
       "<Figure size 600x300 with 1 Axes>"
      ]
     },
     "metadata": {},
     "output_type": "display_data"
    }
   ],
   "source": [
    "# create table\n",
    "fig, ax = plt.subplots(figsize=(6, 3))\n",
    "ax.axis('off')\n",
    "ax.axis('tight')\n",
    "table = ax.table(cellText=df.values, colLabels=df.columns, loc='center')\n",
    "\n",
    "# left alignment\n",
    "for cell in table._cells:\n",
    "    table._cells[cell].set_text_props(ha='left')\n",
    "\n",
    "# adjust the column widths based on the length of the content in each cell\n",
    "table.auto_set_column_width(col=list(range(len(df.columns)))) \n",
    "\n",
    "# adjust the layout\n",
    "plt.tight_layout() \n",
    "\n",
    "# create subtitle\n",
    "fig.suptitle('Harmful Bacteria from Samples', y=0.80, fontsize=14)\n",
    "                 \n",
    "# save as jpeg\n",
    "plt.tight_layout()\n",
    "plt.savefig('table.jpg')"
   ]
  }
 ],
 "metadata": {
  "kernelspec": {
   "display_name": "Python 3",
   "language": "python",
   "name": "python3"
  },
  "language_info": {
   "codemirror_mode": {
    "name": "ipython",
    "version": 3
   },
   "file_extension": ".py",
   "mimetype": "text/x-python",
   "name": "python",
   "nbconvert_exporter": "python",
   "pygments_lexer": "ipython3",
   "version": "3.11.1"
  },
  "orig_nbformat": 4,
  "vscode": {
   "interpreter": {
    "hash": "afffc98ef2e14478aefd6c9936db4a8482b7a0abefe81264c0b83ced56e60f5e"
   }
  }
 },
 "nbformat": 4,
 "nbformat_minor": 2
}
