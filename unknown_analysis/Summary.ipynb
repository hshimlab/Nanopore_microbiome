{
 "cells": [
  {
   "attachments": {},
   "cell_type": "markdown",
   "metadata": {},
   "source": [
    "##### Get all the unique data from columns.\n",
    "- Date : 23/03/16\n",
    "- Author : Jeesu Lee"
   ]
  },
  {
   "cell_type": "code",
   "execution_count": 173,
   "metadata": {},
   "outputs": [],
   "source": [
    "import os\n",
    "import glob\n",
    "import pandas as pd\n",
    "import re\n",
    "import collections"
   ]
  },
  {
   "cell_type": "code",
   "execution_count": 174,
   "metadata": {},
   "outputs": [
    {
     "data": {
      "text/plain": [
       "['.\\\\bertax_out_Saliva1',\n",
       " '.\\\\bertax_out_Saliva2',\n",
       " '.\\\\bertax_out_Saliva3',\n",
       " '.\\\\bertax_out_Stool1',\n",
       " '.\\\\bertax_out_Stool2']"
      ]
     },
     "execution_count": 174,
     "metadata": {},
     "output_type": "execute_result"
    }
   ],
   "source": [
    "# change path to import nanopore classification csv files\n",
    "path = './'\n",
    "files_list = glob.glob(path + 'bertax_out_*')\n",
    "files_list"
   ]
  },
  {
   "cell_type": "code",
   "execution_count": 175,
   "metadata": {},
   "outputs": [
    {
     "data": {
      "text/plain": [
       "'.\\\\bertax_out_Saliva1'"
      ]
     },
     "execution_count": 175,
     "metadata": {},
     "output_type": "execute_result"
    }
   ],
   "source": [
    "file_now = files_list[0]\n",
    "file_now"
   ]
  },
  {
   "cell_type": "code",
   "execution_count": 176,
   "metadata": {},
   "outputs": [
    {
     "name": "stderr",
     "output_type": "stream",
     "text": [
      "C:\\Users\\intco\\AppData\\Local\\Temp\\ipykernel_39764\\2355367215.py:1: ParserWarning: Falling back to the 'python' engine because the 'c' engine does not support regex separators (separators > 1 char and different from '\\s+' are interpreted as regex); you can avoid this warning by specifying engine='python'.\n",
      "  wimp_df = pd.read_csv(file_now, sep = '\\s{2,}')\n"
     ]
    },
    {
     "data": {
      "text/html": [
       "<div>\n",
       "<style scoped>\n",
       "    .dataframe tbody tr th:only-of-type {\n",
       "        vertical-align: middle;\n",
       "    }\n",
       "\n",
       "    .dataframe tbody tr th {\n",
       "        vertical-align: top;\n",
       "    }\n",
       "\n",
       "    .dataframe thead th {\n",
       "        text-align: right;\n",
       "    }\n",
       "</style>\n",
       "<table border=\"1\" class=\"dataframe\">\n",
       "  <thead>\n",
       "    <tr style=\"text-align: right;\">\n",
       "      <th></th>\n",
       "      <th>id</th>\n",
       "      <th>superkingdom</th>\n",
       "      <th>phylum</th>\n",
       "      <th>genus</th>\n",
       "    </tr>\n",
       "  </thead>\n",
       "  <tbody>\n",
       "    <tr>\n",
       "      <th>0</th>\n",
       "      <td>05793ee6-4bfc-46b5-bc89-fd0e6c8f37b1|AGG353_pa...</td>\n",
       "      <td>Viruses (64%)</td>\n",
       "      <td>Rhodophyta (62%)</td>\n",
       "      <td>Roseiflexus (41%)</td>\n",
       "    </tr>\n",
       "    <tr>\n",
       "      <th>1</th>\n",
       "      <td>4b8e9759-ed73-4400-b5c3-d030565a3256|AGG353_pa...</td>\n",
       "      <td>Viruses (89%)</td>\n",
       "      <td>Uroviricota (73%)</td>\n",
       "      <td>unknown (51%)</td>\n",
       "    </tr>\n",
       "    <tr>\n",
       "      <th>2</th>\n",
       "      <td>69ad46ce-5ddc-41b8-95e0-8fe46f42472f|AGG353_pa...</td>\n",
       "      <td>Bacteria (99%)</td>\n",
       "      <td>Cyanobacteria (88%)</td>\n",
       "      <td>Vibrio (98%)</td>\n",
       "    </tr>\n",
       "    <tr>\n",
       "      <th>3</th>\n",
       "      <td>a5590c24-3029-4d05-aef7-f2118b3541ae|AGG353_pa...</td>\n",
       "      <td>Bacteria (73%)</td>\n",
       "      <td>Arthropoda (48%)</td>\n",
       "      <td>Tribolium (89%)</td>\n",
       "    </tr>\n",
       "    <tr>\n",
       "      <th>4</th>\n",
       "      <td>c586e7ca-2f27-4427-b64d-95e19f4ef66e|AGG353_pa...</td>\n",
       "      <td>Eukaryota (81%)</td>\n",
       "      <td>Rhodophyta (99%)</td>\n",
       "      <td>Cyanidioschyzon (93%)</td>\n",
       "    </tr>\n",
       "    <tr>\n",
       "      <th>...</th>\n",
       "      <td>...</td>\n",
       "      <td>...</td>\n",
       "      <td>...</td>\n",
       "      <td>...</td>\n",
       "    </tr>\n",
       "    <tr>\n",
       "      <th>1394</th>\n",
       "      <td>e7fd2ee6-f953-4958-8d67-769aaeb6c727|AGE883_pa...</td>\n",
       "      <td>Eukaryota (95%)</td>\n",
       "      <td>Arthropoda (83%)</td>\n",
       "      <td>Sesamum (14%)</td>\n",
       "    </tr>\n",
       "    <tr>\n",
       "      <th>1395</th>\n",
       "      <td>cf667430-3d9a-4328-8d15-dd435368e390|AGE883_pa...</td>\n",
       "      <td>Bacteria (97%)</td>\n",
       "      <td>Cyanobacteria (94%)</td>\n",
       "      <td>Stanieria (61%)</td>\n",
       "    </tr>\n",
       "    <tr>\n",
       "      <th>1396</th>\n",
       "      <td>36c7c797-fb71-4495-89a3-576632ccf64e|AGE883_pa...</td>\n",
       "      <td>Bacteria (99%)</td>\n",
       "      <td>Proteobacteria (98%)</td>\n",
       "      <td>unknown (95%)</td>\n",
       "    </tr>\n",
       "    <tr>\n",
       "      <th>1397</th>\n",
       "      <td>8b42db5f-90ae-498e-a360-e8c73452ba68|AGE883_pa...</td>\n",
       "      <td>Bacteria (96%)</td>\n",
       "      <td>Firmicutes (85%)</td>\n",
       "      <td>unknown (47%)</td>\n",
       "    </tr>\n",
       "    <tr>\n",
       "      <th>1398</th>\n",
       "      <td>a6c24567-8935-4386-b140-f12bb33ee575|AGE883_pa...</td>\n",
       "      <td>Bacteria (82%)</td>\n",
       "      <td>Proteobacteria (41%)</td>\n",
       "      <td>Acidithiobacillus (98%)</td>\n",
       "    </tr>\n",
       "  </tbody>\n",
       "</table>\n",
       "<p>1399 rows × 4 columns</p>\n",
       "</div>"
      ],
      "text/plain": [
       "                                                     id     superkingdom  \\\n",
       "0     05793ee6-4bfc-46b5-bc89-fd0e6c8f37b1|AGG353_pa...    Viruses (64%)   \n",
       "1     4b8e9759-ed73-4400-b5c3-d030565a3256|AGG353_pa...    Viruses (89%)   \n",
       "2     69ad46ce-5ddc-41b8-95e0-8fe46f42472f|AGG353_pa...   Bacteria (99%)   \n",
       "3     a5590c24-3029-4d05-aef7-f2118b3541ae|AGG353_pa...   Bacteria (73%)   \n",
       "4     c586e7ca-2f27-4427-b64d-95e19f4ef66e|AGG353_pa...  Eukaryota (81%)   \n",
       "...                                                 ...              ...   \n",
       "1394  e7fd2ee6-f953-4958-8d67-769aaeb6c727|AGE883_pa...  Eukaryota (95%)   \n",
       "1395  cf667430-3d9a-4328-8d15-dd435368e390|AGE883_pa...   Bacteria (97%)   \n",
       "1396  36c7c797-fb71-4495-89a3-576632ccf64e|AGE883_pa...   Bacteria (99%)   \n",
       "1397  8b42db5f-90ae-498e-a360-e8c73452ba68|AGE883_pa...   Bacteria (96%)   \n",
       "1398  a6c24567-8935-4386-b140-f12bb33ee575|AGE883_pa...   Bacteria (82%)   \n",
       "\n",
       "                    phylum                    genus  \n",
       "0         Rhodophyta (62%)        Roseiflexus (41%)  \n",
       "1        Uroviricota (73%)            unknown (51%)  \n",
       "2      Cyanobacteria (88%)             Vibrio (98%)  \n",
       "3         Arthropoda (48%)          Tribolium (89%)  \n",
       "4         Rhodophyta (99%)    Cyanidioschyzon (93%)  \n",
       "...                    ...                      ...  \n",
       "1394      Arthropoda (83%)            Sesamum (14%)  \n",
       "1395   Cyanobacteria (94%)          Stanieria (61%)  \n",
       "1396  Proteobacteria (98%)            unknown (95%)  \n",
       "1397      Firmicutes (85%)            unknown (47%)  \n",
       "1398  Proteobacteria (41%)  Acidithiobacillus (98%)  \n",
       "\n",
       "[1399 rows x 4 columns]"
      ]
     },
     "execution_count": 176,
     "metadata": {},
     "output_type": "execute_result"
    }
   ],
   "source": [
    "wimp_df = pd.read_csv(file_now, sep = '\\s{2,}')\n",
    "#wimp_df_unclassified = wimp_df[wimp_df['exit_status']=='Unclassified']\n",
    "#wimp_df_unclassified.shape\n",
    "\n",
    "wimp_df"
   ]
  },
  {
   "cell_type": "code",
   "execution_count": 177,
   "metadata": {},
   "outputs": [],
   "source": [
    "wimp_df_superkingdom = wimp_df['superkingdom'].str.split(' ', expand = True)"
   ]
  },
  {
   "cell_type": "code",
   "execution_count": 178,
   "metadata": {},
   "outputs": [
    {
     "data": {
      "text/html": [
       "<div>\n",
       "<style scoped>\n",
       "    .dataframe tbody tr th:only-of-type {\n",
       "        vertical-align: middle;\n",
       "    }\n",
       "\n",
       "    .dataframe tbody tr th {\n",
       "        vertical-align: top;\n",
       "    }\n",
       "\n",
       "    .dataframe thead th {\n",
       "        text-align: right;\n",
       "    }\n",
       "</style>\n",
       "<table border=\"1\" class=\"dataframe\">\n",
       "  <thead>\n",
       "    <tr style=\"text-align: right;\">\n",
       "      <th></th>\n",
       "      <th>0</th>\n",
       "      <th>1</th>\n",
       "    </tr>\n",
       "  </thead>\n",
       "  <tbody>\n",
       "    <tr>\n",
       "      <th>0</th>\n",
       "      <td>Viruses</td>\n",
       "      <td>(64%)</td>\n",
       "    </tr>\n",
       "    <tr>\n",
       "      <th>1</th>\n",
       "      <td>Viruses</td>\n",
       "      <td>(89%)</td>\n",
       "    </tr>\n",
       "    <tr>\n",
       "      <th>2</th>\n",
       "      <td>Bacteria</td>\n",
       "      <td>(99%)</td>\n",
       "    </tr>\n",
       "    <tr>\n",
       "      <th>3</th>\n",
       "      <td>Bacteria</td>\n",
       "      <td>(73%)</td>\n",
       "    </tr>\n",
       "    <tr>\n",
       "      <th>4</th>\n",
       "      <td>Eukaryota</td>\n",
       "      <td>(81%)</td>\n",
       "    </tr>\n",
       "    <tr>\n",
       "      <th>...</th>\n",
       "      <td>...</td>\n",
       "      <td>...</td>\n",
       "    </tr>\n",
       "    <tr>\n",
       "      <th>1394</th>\n",
       "      <td>Eukaryota</td>\n",
       "      <td>(95%)</td>\n",
       "    </tr>\n",
       "    <tr>\n",
       "      <th>1395</th>\n",
       "      <td>Bacteria</td>\n",
       "      <td>(97%)</td>\n",
       "    </tr>\n",
       "    <tr>\n",
       "      <th>1396</th>\n",
       "      <td>Bacteria</td>\n",
       "      <td>(99%)</td>\n",
       "    </tr>\n",
       "    <tr>\n",
       "      <th>1397</th>\n",
       "      <td>Bacteria</td>\n",
       "      <td>(96%)</td>\n",
       "    </tr>\n",
       "    <tr>\n",
       "      <th>1398</th>\n",
       "      <td>Bacteria</td>\n",
       "      <td>(82%)</td>\n",
       "    </tr>\n",
       "  </tbody>\n",
       "</table>\n",
       "<p>1399 rows × 2 columns</p>\n",
       "</div>"
      ],
      "text/plain": [
       "              0      1\n",
       "0       Viruses  (64%)\n",
       "1       Viruses  (89%)\n",
       "2      Bacteria  (99%)\n",
       "3      Bacteria  (73%)\n",
       "4     Eukaryota  (81%)\n",
       "...         ...    ...\n",
       "1394  Eukaryota  (95%)\n",
       "1395   Bacteria  (97%)\n",
       "1396   Bacteria  (99%)\n",
       "1397   Bacteria  (96%)\n",
       "1398   Bacteria  (82%)\n",
       "\n",
       "[1399 rows x 2 columns]"
      ]
     },
     "execution_count": 178,
     "metadata": {},
     "output_type": "execute_result"
    }
   ],
   "source": [
    "wimp_df_superkingdom"
   ]
  },
  {
   "cell_type": "code",
   "execution_count": 179,
   "metadata": {},
   "outputs": [],
   "source": [
    "wimp_df_phylum = wimp_df['phylum'].str.split(' ', expand = True)"
   ]
  },
  {
   "cell_type": "code",
   "execution_count": 180,
   "metadata": {},
   "outputs": [
    {
     "data": {
      "text/html": [
       "<div>\n",
       "<style scoped>\n",
       "    .dataframe tbody tr th:only-of-type {\n",
       "        vertical-align: middle;\n",
       "    }\n",
       "\n",
       "    .dataframe tbody tr th {\n",
       "        vertical-align: top;\n",
       "    }\n",
       "\n",
       "    .dataframe thead th {\n",
       "        text-align: right;\n",
       "    }\n",
       "</style>\n",
       "<table border=\"1\" class=\"dataframe\">\n",
       "  <thead>\n",
       "    <tr style=\"text-align: right;\">\n",
       "      <th></th>\n",
       "      <th>0</th>\n",
       "      <th>1</th>\n",
       "      <th>2</th>\n",
       "    </tr>\n",
       "  </thead>\n",
       "  <tbody>\n",
       "    <tr>\n",
       "      <th>0</th>\n",
       "      <td>Rhodophyta</td>\n",
       "      <td>(62%)</td>\n",
       "      <td>None</td>\n",
       "    </tr>\n",
       "    <tr>\n",
       "      <th>1</th>\n",
       "      <td>Uroviricota</td>\n",
       "      <td>(73%)</td>\n",
       "      <td>None</td>\n",
       "    </tr>\n",
       "    <tr>\n",
       "      <th>2</th>\n",
       "      <td>Cyanobacteria</td>\n",
       "      <td>(88%)</td>\n",
       "      <td>None</td>\n",
       "    </tr>\n",
       "    <tr>\n",
       "      <th>3</th>\n",
       "      <td>Arthropoda</td>\n",
       "      <td>(48%)</td>\n",
       "      <td>None</td>\n",
       "    </tr>\n",
       "    <tr>\n",
       "      <th>4</th>\n",
       "      <td>Rhodophyta</td>\n",
       "      <td>(99%)</td>\n",
       "      <td>None</td>\n",
       "    </tr>\n",
       "    <tr>\n",
       "      <th>...</th>\n",
       "      <td>...</td>\n",
       "      <td>...</td>\n",
       "      <td>...</td>\n",
       "    </tr>\n",
       "    <tr>\n",
       "      <th>1394</th>\n",
       "      <td>Arthropoda</td>\n",
       "      <td>(83%)</td>\n",
       "      <td>None</td>\n",
       "    </tr>\n",
       "    <tr>\n",
       "      <th>1395</th>\n",
       "      <td>Cyanobacteria</td>\n",
       "      <td>(94%)</td>\n",
       "      <td>None</td>\n",
       "    </tr>\n",
       "    <tr>\n",
       "      <th>1396</th>\n",
       "      <td>Proteobacteria</td>\n",
       "      <td>(98%)</td>\n",
       "      <td>None</td>\n",
       "    </tr>\n",
       "    <tr>\n",
       "      <th>1397</th>\n",
       "      <td>Firmicutes</td>\n",
       "      <td>(85%)</td>\n",
       "      <td>None</td>\n",
       "    </tr>\n",
       "    <tr>\n",
       "      <th>1398</th>\n",
       "      <td>Proteobacteria</td>\n",
       "      <td>(41%)</td>\n",
       "      <td>None</td>\n",
       "    </tr>\n",
       "  </tbody>\n",
       "</table>\n",
       "<p>1399 rows × 3 columns</p>\n",
       "</div>"
      ],
      "text/plain": [
       "                   0      1     2\n",
       "0         Rhodophyta  (62%)  None\n",
       "1        Uroviricota  (73%)  None\n",
       "2      Cyanobacteria  (88%)  None\n",
       "3         Arthropoda  (48%)  None\n",
       "4         Rhodophyta  (99%)  None\n",
       "...              ...    ...   ...\n",
       "1394      Arthropoda  (83%)  None\n",
       "1395   Cyanobacteria  (94%)  None\n",
       "1396  Proteobacteria  (98%)  None\n",
       "1397      Firmicutes  (85%)  None\n",
       "1398  Proteobacteria  (41%)  None\n",
       "\n",
       "[1399 rows x 3 columns]"
      ]
     },
     "execution_count": 180,
     "metadata": {},
     "output_type": "execute_result"
    }
   ],
   "source": [
    "wimp_df_phylum"
   ]
  },
  {
   "cell_type": "code",
   "execution_count": 181,
   "metadata": {},
   "outputs": [],
   "source": [
    "wimp_df_genus = wimp_df['genus'].str.split(' ', expand = True)"
   ]
  },
  {
   "cell_type": "code",
   "execution_count": 182,
   "metadata": {},
   "outputs": [
    {
     "data": {
      "text/html": [
       "<div>\n",
       "<style scoped>\n",
       "    .dataframe tbody tr th:only-of-type {\n",
       "        vertical-align: middle;\n",
       "    }\n",
       "\n",
       "    .dataframe tbody tr th {\n",
       "        vertical-align: top;\n",
       "    }\n",
       "\n",
       "    .dataframe thead th {\n",
       "        text-align: right;\n",
       "    }\n",
       "</style>\n",
       "<table border=\"1\" class=\"dataframe\">\n",
       "  <thead>\n",
       "    <tr style=\"text-align: right;\">\n",
       "      <th></th>\n",
       "      <th>0</th>\n",
       "      <th>1</th>\n",
       "      <th>2</th>\n",
       "    </tr>\n",
       "  </thead>\n",
       "  <tbody>\n",
       "    <tr>\n",
       "      <th>0</th>\n",
       "      <td>Roseiflexus</td>\n",
       "      <td>(41%)</td>\n",
       "      <td>None</td>\n",
       "    </tr>\n",
       "    <tr>\n",
       "      <th>1</th>\n",
       "      <td>unknown</td>\n",
       "      <td>(51%)</td>\n",
       "      <td>None</td>\n",
       "    </tr>\n",
       "    <tr>\n",
       "      <th>2</th>\n",
       "      <td>Vibrio</td>\n",
       "      <td>(98%)</td>\n",
       "      <td>None</td>\n",
       "    </tr>\n",
       "    <tr>\n",
       "      <th>3</th>\n",
       "      <td>Tribolium</td>\n",
       "      <td>(89%)</td>\n",
       "      <td>None</td>\n",
       "    </tr>\n",
       "    <tr>\n",
       "      <th>4</th>\n",
       "      <td>Cyanidioschyzon</td>\n",
       "      <td>(93%)</td>\n",
       "      <td>None</td>\n",
       "    </tr>\n",
       "    <tr>\n",
       "      <th>...</th>\n",
       "      <td>...</td>\n",
       "      <td>...</td>\n",
       "      <td>...</td>\n",
       "    </tr>\n",
       "    <tr>\n",
       "      <th>1394</th>\n",
       "      <td>Sesamum</td>\n",
       "      <td>(14%)</td>\n",
       "      <td>None</td>\n",
       "    </tr>\n",
       "    <tr>\n",
       "      <th>1395</th>\n",
       "      <td>Stanieria</td>\n",
       "      <td>(61%)</td>\n",
       "      <td>None</td>\n",
       "    </tr>\n",
       "    <tr>\n",
       "      <th>1396</th>\n",
       "      <td>unknown</td>\n",
       "      <td>(95%)</td>\n",
       "      <td>None</td>\n",
       "    </tr>\n",
       "    <tr>\n",
       "      <th>1397</th>\n",
       "      <td>unknown</td>\n",
       "      <td>(47%)</td>\n",
       "      <td>None</td>\n",
       "    </tr>\n",
       "    <tr>\n",
       "      <th>1398</th>\n",
       "      <td>Acidithiobacillus</td>\n",
       "      <td>(98%)</td>\n",
       "      <td>None</td>\n",
       "    </tr>\n",
       "  </tbody>\n",
       "</table>\n",
       "<p>1399 rows × 3 columns</p>\n",
       "</div>"
      ],
      "text/plain": [
       "                      0      1     2\n",
       "0           Roseiflexus  (41%)  None\n",
       "1               unknown  (51%)  None\n",
       "2                Vibrio  (98%)  None\n",
       "3             Tribolium  (89%)  None\n",
       "4       Cyanidioschyzon  (93%)  None\n",
       "...                 ...    ...   ...\n",
       "1394            Sesamum  (14%)  None\n",
       "1395          Stanieria  (61%)  None\n",
       "1396            unknown  (95%)  None\n",
       "1397            unknown  (47%)  None\n",
       "1398  Acidithiobacillus  (98%)  None\n",
       "\n",
       "[1399 rows x 3 columns]"
      ]
     },
     "execution_count": 182,
     "metadata": {},
     "output_type": "execute_result"
    }
   ],
   "source": [
    "wimp_df_genus"
   ]
  },
  {
   "cell_type": "code",
   "execution_count": 183,
   "metadata": {},
   "outputs": [
    {
     "data": {
      "text/plain": [
       "(1399, 4)"
      ]
     },
     "execution_count": 183,
     "metadata": {},
     "output_type": "execute_result"
    }
   ],
   "source": [
    "wimp_df.shape"
   ]
  },
  {
   "cell_type": "code",
   "execution_count": 184,
   "metadata": {},
   "outputs": [],
   "source": [
    "wimp_df_first_line = wimp_df.iloc[0]"
   ]
  },
  {
   "cell_type": "code",
   "execution_count": 185,
   "metadata": {},
   "outputs": [
    {
     "data": {
      "text/plain": [
       "id              05793ee6-4bfc-46b5-bc89-fd0e6c8f37b1|AGG353_pa...\n",
       "superkingdom                                        Viruses (64%)\n",
       "phylum                                           Rhodophyta (62%)\n",
       "genus                                           Roseiflexus (41%)\n",
       "Name: 0, dtype: object"
      ]
     },
     "execution_count": 185,
     "metadata": {},
     "output_type": "execute_result"
    }
   ],
   "source": [
    "wimp_df_first_line"
   ]
  },
  {
   "cell_type": "code",
   "execution_count": 186,
   "metadata": {},
   "outputs": [
    {
     "data": {
      "text/plain": [
       "218"
      ]
     },
     "execution_count": 186,
     "metadata": {},
     "output_type": "execute_result"
    }
   ],
   "source": [
    "wimp_df['superkingdom'].str.contains('Viruses').sum()"
   ]
  },
  {
   "cell_type": "code",
   "execution_count": 187,
   "metadata": {},
   "outputs": [
    {
     "data": {
      "text/html": [
       "<div>\n",
       "<style scoped>\n",
       "    .dataframe tbody tr th:only-of-type {\n",
       "        vertical-align: middle;\n",
       "    }\n",
       "\n",
       "    .dataframe tbody tr th {\n",
       "        vertical-align: top;\n",
       "    }\n",
       "\n",
       "    .dataframe thead th {\n",
       "        text-align: right;\n",
       "    }\n",
       "</style>\n",
       "<table border=\"1\" class=\"dataframe\">\n",
       "  <thead>\n",
       "    <tr style=\"text-align: right;\">\n",
       "      <th></th>\n",
       "      <th>id</th>\n",
       "      <th>superkingdom</th>\n",
       "      <th>phylum</th>\n",
       "      <th>genus</th>\n",
       "    </tr>\n",
       "  </thead>\n",
       "  <tbody>\n",
       "    <tr>\n",
       "      <th>0</th>\n",
       "      <td>05793ee6-4bfc-46b5-bc89-fd0e6c8f37b1|AGG353_pa...</td>\n",
       "      <td>Viruses (64%)</td>\n",
       "      <td>Rhodophyta (62%)</td>\n",
       "      <td>Roseiflexus (41%)</td>\n",
       "    </tr>\n",
       "    <tr>\n",
       "      <th>1</th>\n",
       "      <td>4b8e9759-ed73-4400-b5c3-d030565a3256|AGG353_pa...</td>\n",
       "      <td>Viruses (89%)</td>\n",
       "      <td>Uroviricota (73%)</td>\n",
       "      <td>unknown (51%)</td>\n",
       "    </tr>\n",
       "    <tr>\n",
       "      <th>2</th>\n",
       "      <td>69ad46ce-5ddc-41b8-95e0-8fe46f42472f|AGG353_pa...</td>\n",
       "      <td>Bacteria (99%)</td>\n",
       "      <td>Cyanobacteria (88%)</td>\n",
       "      <td>Vibrio (98%)</td>\n",
       "    </tr>\n",
       "    <tr>\n",
       "      <th>3</th>\n",
       "      <td>a5590c24-3029-4d05-aef7-f2118b3541ae|AGG353_pa...</td>\n",
       "      <td>Bacteria (73%)</td>\n",
       "      <td>Arthropoda (48%)</td>\n",
       "      <td>Tribolium (89%)</td>\n",
       "    </tr>\n",
       "    <tr>\n",
       "      <th>4</th>\n",
       "      <td>c586e7ca-2f27-4427-b64d-95e19f4ef66e|AGG353_pa...</td>\n",
       "      <td>Eukaryota (81%)</td>\n",
       "      <td>Rhodophyta (99%)</td>\n",
       "      <td>Cyanidioschyzon (93%)</td>\n",
       "    </tr>\n",
       "    <tr>\n",
       "      <th>...</th>\n",
       "      <td>...</td>\n",
       "      <td>...</td>\n",
       "      <td>...</td>\n",
       "      <td>...</td>\n",
       "    </tr>\n",
       "    <tr>\n",
       "      <th>1394</th>\n",
       "      <td>e7fd2ee6-f953-4958-8d67-769aaeb6c727|AGE883_pa...</td>\n",
       "      <td>Eukaryota (95%)</td>\n",
       "      <td>Arthropoda (83%)</td>\n",
       "      <td>Sesamum (14%)</td>\n",
       "    </tr>\n",
       "    <tr>\n",
       "      <th>1395</th>\n",
       "      <td>cf667430-3d9a-4328-8d15-dd435368e390|AGE883_pa...</td>\n",
       "      <td>Bacteria (97%)</td>\n",
       "      <td>Cyanobacteria (94%)</td>\n",
       "      <td>Stanieria (61%)</td>\n",
       "    </tr>\n",
       "    <tr>\n",
       "      <th>1396</th>\n",
       "      <td>36c7c797-fb71-4495-89a3-576632ccf64e|AGE883_pa...</td>\n",
       "      <td>Bacteria (99%)</td>\n",
       "      <td>Proteobacteria (98%)</td>\n",
       "      <td>unknown (95%)</td>\n",
       "    </tr>\n",
       "    <tr>\n",
       "      <th>1397</th>\n",
       "      <td>8b42db5f-90ae-498e-a360-e8c73452ba68|AGE883_pa...</td>\n",
       "      <td>Bacteria (96%)</td>\n",
       "      <td>Firmicutes (85%)</td>\n",
       "      <td>unknown (47%)</td>\n",
       "    </tr>\n",
       "    <tr>\n",
       "      <th>1398</th>\n",
       "      <td>a6c24567-8935-4386-b140-f12bb33ee575|AGE883_pa...</td>\n",
       "      <td>Bacteria (82%)</td>\n",
       "      <td>Proteobacteria (41%)</td>\n",
       "      <td>Acidithiobacillus (98%)</td>\n",
       "    </tr>\n",
       "  </tbody>\n",
       "</table>\n",
       "<p>1399 rows × 4 columns</p>\n",
       "</div>"
      ],
      "text/plain": [
       "                                                     id     superkingdom  \\\n",
       "0     05793ee6-4bfc-46b5-bc89-fd0e6c8f37b1|AGG353_pa...    Viruses (64%)   \n",
       "1     4b8e9759-ed73-4400-b5c3-d030565a3256|AGG353_pa...    Viruses (89%)   \n",
       "2     69ad46ce-5ddc-41b8-95e0-8fe46f42472f|AGG353_pa...   Bacteria (99%)   \n",
       "3     a5590c24-3029-4d05-aef7-f2118b3541ae|AGG353_pa...   Bacteria (73%)   \n",
       "4     c586e7ca-2f27-4427-b64d-95e19f4ef66e|AGG353_pa...  Eukaryota (81%)   \n",
       "...                                                 ...              ...   \n",
       "1394  e7fd2ee6-f953-4958-8d67-769aaeb6c727|AGE883_pa...  Eukaryota (95%)   \n",
       "1395  cf667430-3d9a-4328-8d15-dd435368e390|AGE883_pa...   Bacteria (97%)   \n",
       "1396  36c7c797-fb71-4495-89a3-576632ccf64e|AGE883_pa...   Bacteria (99%)   \n",
       "1397  8b42db5f-90ae-498e-a360-e8c73452ba68|AGE883_pa...   Bacteria (96%)   \n",
       "1398  a6c24567-8935-4386-b140-f12bb33ee575|AGE883_pa...   Bacteria (82%)   \n",
       "\n",
       "                    phylum                    genus  \n",
       "0         Rhodophyta (62%)        Roseiflexus (41%)  \n",
       "1        Uroviricota (73%)            unknown (51%)  \n",
       "2      Cyanobacteria (88%)             Vibrio (98%)  \n",
       "3         Arthropoda (48%)          Tribolium (89%)  \n",
       "4         Rhodophyta (99%)    Cyanidioschyzon (93%)  \n",
       "...                    ...                      ...  \n",
       "1394      Arthropoda (83%)            Sesamum (14%)  \n",
       "1395   Cyanobacteria (94%)          Stanieria (61%)  \n",
       "1396  Proteobacteria (98%)            unknown (95%)  \n",
       "1397      Firmicutes (85%)            unknown (47%)  \n",
       "1398  Proteobacteria (41%)  Acidithiobacillus (98%)  \n",
       "\n",
       "[1399 rows x 4 columns]"
      ]
     },
     "execution_count": 187,
     "metadata": {},
     "output_type": "execute_result"
    }
   ],
   "source": [
    "wimp_df"
   ]
  },
  {
   "cell_type": "code",
   "execution_count": 188,
   "metadata": {},
   "outputs": [
    {
     "data": {
      "text/plain": [
       "{'Archaea', 'Bacteria', 'Eukaryota', 'Viruses'}"
      ]
     },
     "execution_count": 188,
     "metadata": {},
     "output_type": "execute_result"
    }
   ],
   "source": [
    "unique_superkingdom = set(wimp_df_superkingdom[0])\n",
    "unique_superkingdom"
   ]
  },
  {
   "cell_type": "code",
   "execution_count": 203,
   "metadata": {},
   "outputs": [
    {
     "data": {
      "text/plain": [
       "41"
      ]
     },
     "execution_count": 203,
     "metadata": {},
     "output_type": "execute_result"
    }
   ],
   "source": [
    "unique_phylum = set(wimp_df_phylum[0])\n",
    "len(unique_phylum)"
   ]
  },
  {
   "cell_type": "code",
   "execution_count": 204,
   "metadata": {},
   "outputs": [
    {
     "data": {
      "text/plain": [
       "135"
      ]
     },
     "execution_count": 204,
     "metadata": {},
     "output_type": "execute_result"
    }
   ],
   "source": [
    "unique_genus = set(wimp_df_genus[0])\n",
    "len(unique_genus)"
   ]
  },
  {
   "cell_type": "code",
   "execution_count": 191,
   "metadata": {},
   "outputs": [
    {
     "name": "stdout",
     "output_type": "stream",
     "text": [
      "Counter({'Eukaryota': 612, 'Bacteria': 504, 'Viruses': 218, 'Archaea': 65})\n"
     ]
    }
   ],
   "source": [
    "ctr_superkingdom = collections.Counter()\n",
    "\n",
    "for r in wimp_df_superkingdom[0]:\n",
    "    ctr_superkingdom.update(r.split(\"/\"))\n",
    "print(ctr_superkingdom)"
   ]
  },
  {
   "cell_type": "code",
   "execution_count": 192,
   "metadata": {},
   "outputs": [
    {
     "name": "stdout",
     "output_type": "stream",
     "text": [
      "Counter({'Uroviricota': 173, 'Streptophyta': 161, 'Chordata': 135, 'Proteobacteria': 118, 'Bacteroidetes': 84, 'Firmicutes': 72, 'Ascomycota': 70, 'Arthropoda': 63, 'Chloroflexi': 52, 'Mollusca': 47, 'Actinobacteria': 44, 'Apicomplexa': 43, 'Rhodophyta': 35, 'unknown': 29, 'Crenarchaeota': 25, 'Cyanobacteria': 21, 'Planctomycetes': 19, 'Chlorophyta': 18, 'Deinococcus-Thermus': 16, 'Thermotogae': 16, 'Bacillariophyta': 16, 'Basidiomycota': 16, 'Euglenozoa': 14, 'Thaumarchaeota': 11, 'Chlamydiae': 11, 'Platyhelminthes': 11, 'Euryarchaeota': 9, 'Fusobacteria': 8, 'Spirochaetes': 8, 'Peploviricota': 8, 'Verrucomicrobia': 7, 'Aquificae': 7, 'Gemmatimonadetes': 7, 'Nematoda': 5, 'Tenericutes': 4, 'Lentisphaerae': 4, 'Chlorobi': 4, 'Nitrospirae': 3, 'Pisuviricota': 3, 'Negarnaviricota': 1, 'Candidatus': 1})\n"
     ]
    }
   ],
   "source": [
    "ctr_phylum = collections.Counter()\n",
    "\n",
    "for r in wimp_df_phylum[0]:\n",
    "    ctr_phylum.update(r.split(\"/\"))\n",
    "print(ctr_phylum)"
   ]
  },
  {
   "cell_type": "code",
   "execution_count": 193,
   "metadata": {},
   "outputs": [
    {
     "name": "stdout",
     "output_type": "stream",
     "text": [
      "Counter({'unknown': 190, 'Cucurbita': 105, 'Vibrio': 51, 'Pseudomonas': 46, 'Ooceraea': 34, 'Roseiflexus': 33, 'Ktedonosporobacter': 32, 'Ciona': 28, 'Cynara': 27, 'Actinomyces': 27, 'Cyanidioschyzon': 26, 'Bifidobacterium': 25, 'Tribolium': 24, 'Zymoseptoria': 22, 'Salinisphaera': 22, 'Neisseria': 22, 'Rubrobacter': 19, 'Mus': 19, 'Daucus': 18, 'Oncorhynchus': 17, 'Aeromonas': 17, 'Cercospora': 17, 'Crassostrea': 17, 'Deinococcus': 16, 'Beta': 15, 'Drosophila': 15, 'Candidatus': 15, 'Archaeoglobus': 13, 'Apis': 12, 'Thalassiosira': 12, 'Plasmodium': 12, 'Gemmata': 12, 'Betta': 11, 'Cryptococcus': 11, 'Gallus': 11, 'Fervidicoccus': 10, 'Limnochorda': 10, 'Papaver': 10, 'Octopus': 10, 'Theileria': 10, 'Botrytis': 9, 'Olea': 9, 'Nitrososphaera': 9, 'Methanocella': 8, 'Aspergillus': 8, 'Leishmania': 8, 'Ostreococcus': 8, 'Acidithiobacillus': 8, 'Leptospira': 8, 'Colletotrichum': 8, 'Equus': 7, 'Solanum': 7, 'Microcaecilia': 7, 'Schistosoma': 7, 'Elaeis': 6, 'Methanosarcina': 6, 'Stanieria': 6, 'Caenorhabditis': 6, 'Rudivirus': 6, 'Brassica': 6, 'Fusarium': 5, 'Phyllostomus': 5, 'Pyricularia': 5, 'Akkermansia': 5, 'Physcomitrium': 5, 'Podarcis': 5, 'Legionella': 5, 'Chlamydia': 5, 'Pomacea': 5, 'Frankia': 5, 'Helianthus': 5, 'Gadus': 4, 'Malassezia': 4, 'Nymphaea': 4, 'Synechococcus': 4, 'Sporisorium': 4, 'Desulfovibrio': 4, 'Musa': 4, 'Gopherus': 4, 'Oryzias': 4, 'Sarcophilus': 4, 'Aquila': 4, 'Rhinatrema': 4, 'Phaeodactylum': 4, 'Ornithorhynchus': 4, 'Mariprofundus': 4, 'Sedimentisphaera': 4, 'Lepisosteus': 3, 'Erpetoichthys': 3, 'Acyrthosiphon': 3, 'Asparagus': 3, 'Methanocaldococcus': 3, 'Nitrospira': 3, 'Trichoplusia': 3, 'Prosthecochloris': 3, 'Manihot': 3, 'Scleropages': 3, 'Spodoptera': 3, 'Rhopalosiphum': 2, 'Cottoperca': 2, 'Astyanax': 2, 'Perca': 2, 'Aythya': 2, 'Cynoglossus': 2, 'Calypte': 2, 'Methanobrevibacter': 2, 'Clupea': 2, 'Citrus': 2, 'Streptomyces': 2, 'Strigops': 2, 'Salarias': 2, 'Methanobacterium': 2, 'Brachyspira': 2, 'Sphaeramia': 2, 'Denticeps': 2, 'Populus': 2, 'Actinopolyspora': 2, 'Sesamum': 2, 'Thermogutta': 1, 'Oryctolagus': 1, 'Echeneis': 1, 'Modestobacter': 1, 'Coffea': 1, 'Acidilobus': 1, 'Euzebya': 1, 'Nitrosopumilus': 1, 'Xenopus': 1, 'Vitis': 1, 'Esox': 1, 'Ustilago': 1, 'Pyrobaculum': 1, 'Chrysemys': 1, 'Quercus': 1, 'Monodelphis': 1, 'Ictalurus': 1})\n"
     ]
    }
   ],
   "source": [
    "ctr_genus = collections.Counter()\n",
    "\n",
    "for r in wimp_df_genus[0]:\n",
    "    ctr_genus.update(r.split(\"/\"))\n",
    "print(ctr_genus)"
   ]
  },
  {
   "attachments": {},
   "cell_type": "markdown",
   "metadata": {},
   "source": [
    "##### Save dataframe as csv.\n",
    "- Date : 23/03/17\n",
    "- Author : Jeesu Lee"
   ]
  },
  {
   "cell_type": "code",
   "execution_count": 194,
   "metadata": {},
   "outputs": [
    {
     "data": {
      "text/html": [
       "<div>\n",
       "<style scoped>\n",
       "    .dataframe tbody tr th:only-of-type {\n",
       "        vertical-align: middle;\n",
       "    }\n",
       "\n",
       "    .dataframe tbody tr th {\n",
       "        vertical-align: top;\n",
       "    }\n",
       "\n",
       "    .dataframe thead th {\n",
       "        text-align: right;\n",
       "    }\n",
       "</style>\n",
       "<table border=\"1\" class=\"dataframe\">\n",
       "  <thead>\n",
       "    <tr style=\"text-align: right;\">\n",
       "      <th></th>\n",
       "      <th>Viruses</th>\n",
       "      <th>Bacteria</th>\n",
       "      <th>Eukaryota</th>\n",
       "      <th>Archaea</th>\n",
       "    </tr>\n",
       "  </thead>\n",
       "  <tbody>\n",
       "    <tr>\n",
       "      <th>superkingdom</th>\n",
       "      <td>218</td>\n",
       "      <td>504</td>\n",
       "      <td>612</td>\n",
       "      <td>65</td>\n",
       "    </tr>\n",
       "  </tbody>\n",
       "</table>\n",
       "</div>"
      ],
      "text/plain": [
       "              Viruses  Bacteria  Eukaryota  Archaea\n",
       "superkingdom      218       504        612       65"
      ]
     },
     "execution_count": 194,
     "metadata": {},
     "output_type": "execute_result"
    }
   ],
   "source": [
    "df_ctr_superkingdom = pd.DataFrame(ctr_superkingdom, index = ['superkingdom'])\n",
    "df_ctr_superkingdom"
   ]
  },
  {
   "cell_type": "code",
   "execution_count": 195,
   "metadata": {},
   "outputs": [],
   "source": [
    "df_ctr_superkingdom.to_csv(\"Saliva1_superkingdom.csv\", encoding='UTF-8')"
   ]
  },
  {
   "cell_type": "code",
   "execution_count": 196,
   "metadata": {},
   "outputs": [
    {
     "data": {
      "text/html": [
       "<div>\n",
       "<style scoped>\n",
       "    .dataframe tbody tr th:only-of-type {\n",
       "        vertical-align: middle;\n",
       "    }\n",
       "\n",
       "    .dataframe tbody tr th {\n",
       "        vertical-align: top;\n",
       "    }\n",
       "\n",
       "    .dataframe thead th {\n",
       "        text-align: right;\n",
       "    }\n",
       "</style>\n",
       "<table border=\"1\" class=\"dataframe\">\n",
       "  <thead>\n",
       "    <tr style=\"text-align: right;\">\n",
       "      <th></th>\n",
       "      <th>Rhodophyta</th>\n",
       "      <th>Uroviricota</th>\n",
       "      <th>Cyanobacteria</th>\n",
       "      <th>Arthropoda</th>\n",
       "      <th>Chordata</th>\n",
       "      <th>Crenarchaeota</th>\n",
       "      <th>Streptophyta</th>\n",
       "      <th>Chloroflexi</th>\n",
       "      <th>Firmicutes</th>\n",
       "      <th>Proteobacteria</th>\n",
       "      <th>...</th>\n",
       "      <th>Spirochaetes</th>\n",
       "      <th>Negarnaviricota</th>\n",
       "      <th>Peploviricota</th>\n",
       "      <th>Euglenozoa</th>\n",
       "      <th>Nematoda</th>\n",
       "      <th>Chlorobi</th>\n",
       "      <th>Nitrospirae</th>\n",
       "      <th>Platyhelminthes</th>\n",
       "      <th>Pisuviricota</th>\n",
       "      <th>Candidatus</th>\n",
       "    </tr>\n",
       "  </thead>\n",
       "  <tbody>\n",
       "    <tr>\n",
       "      <th>phylum</th>\n",
       "      <td>35</td>\n",
       "      <td>173</td>\n",
       "      <td>21</td>\n",
       "      <td>63</td>\n",
       "      <td>135</td>\n",
       "      <td>25</td>\n",
       "      <td>161</td>\n",
       "      <td>52</td>\n",
       "      <td>72</td>\n",
       "      <td>118</td>\n",
       "      <td>...</td>\n",
       "      <td>8</td>\n",
       "      <td>1</td>\n",
       "      <td>8</td>\n",
       "      <td>14</td>\n",
       "      <td>5</td>\n",
       "      <td>4</td>\n",
       "      <td>3</td>\n",
       "      <td>11</td>\n",
       "      <td>3</td>\n",
       "      <td>1</td>\n",
       "    </tr>\n",
       "  </tbody>\n",
       "</table>\n",
       "<p>1 rows × 41 columns</p>\n",
       "</div>"
      ],
      "text/plain": [
       "        Rhodophyta  Uroviricota  Cyanobacteria  Arthropoda  Chordata  \\\n",
       "phylum          35          173             21          63       135   \n",
       "\n",
       "        Crenarchaeota  Streptophyta  Chloroflexi  Firmicutes  Proteobacteria  \\\n",
       "phylum             25           161           52          72             118   \n",
       "\n",
       "        ...  Spirochaetes  Negarnaviricota  Peploviricota  Euglenozoa  \\\n",
       "phylum  ...             8                1              8          14   \n",
       "\n",
       "        Nematoda  Chlorobi  Nitrospirae  Platyhelminthes  Pisuviricota  \\\n",
       "phylum         5         4            3               11             3   \n",
       "\n",
       "        Candidatus  \n",
       "phylum           1  \n",
       "\n",
       "[1 rows x 41 columns]"
      ]
     },
     "execution_count": 196,
     "metadata": {},
     "output_type": "execute_result"
    }
   ],
   "source": [
    "df_ctr_phylum = pd.DataFrame(ctr_phylum, index = ['phylum'])\n",
    "df_ctr_phylum"
   ]
  },
  {
   "cell_type": "code",
   "execution_count": 197,
   "metadata": {},
   "outputs": [],
   "source": [
    "df_ctr_phylum.to_csv(\"Saliva1_phylum.csv\", encoding='UTF-8')"
   ]
  },
  {
   "cell_type": "code",
   "execution_count": 198,
   "metadata": {},
   "outputs": [
    {
     "data": {
      "text/html": [
       "<div>\n",
       "<style scoped>\n",
       "    .dataframe tbody tr th:only-of-type {\n",
       "        vertical-align: middle;\n",
       "    }\n",
       "\n",
       "    .dataframe tbody tr th {\n",
       "        vertical-align: top;\n",
       "    }\n",
       "\n",
       "    .dataframe thead th {\n",
       "        text-align: right;\n",
       "    }\n",
       "</style>\n",
       "<table border=\"1\" class=\"dataframe\">\n",
       "  <thead>\n",
       "    <tr style=\"text-align: right;\">\n",
       "      <th></th>\n",
       "      <th>Roseiflexus</th>\n",
       "      <th>unknown</th>\n",
       "      <th>Vibrio</th>\n",
       "      <th>Tribolium</th>\n",
       "      <th>Cyanidioschyzon</th>\n",
       "      <th>Lepisosteus</th>\n",
       "      <th>Fervidicoccus</th>\n",
       "      <th>Cynara</th>\n",
       "      <th>Beta</th>\n",
       "      <th>Methanocella</th>\n",
       "      <th>...</th>\n",
       "      <th>Populus</th>\n",
       "      <th>Actinopolyspora</th>\n",
       "      <th>Esox</th>\n",
       "      <th>Sesamum</th>\n",
       "      <th>Ustilago</th>\n",
       "      <th>Pyrobaculum</th>\n",
       "      <th>Chrysemys</th>\n",
       "      <th>Quercus</th>\n",
       "      <th>Monodelphis</th>\n",
       "      <th>Ictalurus</th>\n",
       "    </tr>\n",
       "  </thead>\n",
       "  <tbody>\n",
       "    <tr>\n",
       "      <th>genus</th>\n",
       "      <td>33</td>\n",
       "      <td>190</td>\n",
       "      <td>51</td>\n",
       "      <td>24</td>\n",
       "      <td>26</td>\n",
       "      <td>3</td>\n",
       "      <td>10</td>\n",
       "      <td>27</td>\n",
       "      <td>15</td>\n",
       "      <td>8</td>\n",
       "      <td>...</td>\n",
       "      <td>2</td>\n",
       "      <td>2</td>\n",
       "      <td>1</td>\n",
       "      <td>2</td>\n",
       "      <td>1</td>\n",
       "      <td>1</td>\n",
       "      <td>1</td>\n",
       "      <td>1</td>\n",
       "      <td>1</td>\n",
       "      <td>1</td>\n",
       "    </tr>\n",
       "  </tbody>\n",
       "</table>\n",
       "<p>1 rows × 135 columns</p>\n",
       "</div>"
      ],
      "text/plain": [
       "       Roseiflexus  unknown  Vibrio  Tribolium  Cyanidioschyzon  Lepisosteus  \\\n",
       "genus           33      190      51         24               26            3   \n",
       "\n",
       "       Fervidicoccus  Cynara  Beta  Methanocella  ...  Populus  \\\n",
       "genus             10      27    15             8  ...        2   \n",
       "\n",
       "       Actinopolyspora  Esox  Sesamum  Ustilago  Pyrobaculum  Chrysemys  \\\n",
       "genus                2     1        2         1            1          1   \n",
       "\n",
       "       Quercus  Monodelphis  Ictalurus  \n",
       "genus        1            1          1  \n",
       "\n",
       "[1 rows x 135 columns]"
      ]
     },
     "execution_count": 198,
     "metadata": {},
     "output_type": "execute_result"
    }
   ],
   "source": [
    "df_ctr_genus = pd.DataFrame(ctr_genus, index = ['genus'])\n",
    "df_ctr_genus"
   ]
  },
  {
   "cell_type": "code",
   "execution_count": 199,
   "metadata": {},
   "outputs": [],
   "source": [
    "df_ctr_genus.to_csv(\"Saliva1_genus.csv\", encoding='UTF-8')"
   ]
  },
  {
   "cell_type": "code",
   "execution_count": null,
   "metadata": {},
   "outputs": [],
   "source": []
  }
 ],
 "metadata": {
  "kernelspec": {
   "display_name": "Python 3",
   "language": "python",
   "name": "python3"
  },
  "language_info": {
   "codemirror_mode": {
    "name": "ipython",
    "version": 3
   },
   "file_extension": ".py",
   "mimetype": "text/x-python",
   "name": "python",
   "nbconvert_exporter": "python",
   "pygments_lexer": "ipython3",
   "version": "3.11.1"
  },
  "orig_nbformat": 4,
  "vscode": {
   "interpreter": {
    "hash": "afffc98ef2e14478aefd6c9936db4a8482b7a0abefe81264c0b83ced56e60f5e"
   }
  }
 },
 "nbformat": 4,
 "nbformat_minor": 2
}
