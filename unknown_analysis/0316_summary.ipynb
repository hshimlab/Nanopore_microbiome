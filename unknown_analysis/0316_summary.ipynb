{
 "cells": [
  {
   "attachments": {},
   "cell_type": "markdown",
   "metadata": {},
   "source": [
    "##### library"
   ]
  },
  {
   "cell_type": "code",
   "execution_count": 1,
   "metadata": {},
   "outputs": [],
   "source": [
    "import os\n",
    "import glob\n",
    "import pandas as pd\n",
    "import re\n",
    "import collections\n",
    "import csv\n",
    "\n",
    "\n",
    "import matplotlib.pyplot as plt\n",
    "\n",
    "\n",
    "import seaborn as sns\n",
    "import numpy as np"
   ]
  },
  {
   "attachments": {},
   "cell_type": "markdown",
   "metadata": {},
   "source": [
    "### <1> Get all the unique data from columns\n",
    "- Date : 23/03/16\n",
    "- Author : Jeesu Lee"
   ]
  },
  {
   "attachments": {},
   "cell_type": "markdown",
   "metadata": {},
   "source": [
    "### step1. change path to import nanopore classification csv files"
   ]
  },
  {
   "cell_type": "code",
   "execution_count": 2,
   "metadata": {},
   "outputs": [
    {
     "data": {
      "text/plain": [
       "['.\\\\bertax_out_Saliva1',\n",
       " '.\\\\bertax_out_Saliva2',\n",
       " '.\\\\bertax_out_Saliva3',\n",
       " '.\\\\bertax_out_Stool1',\n",
       " '.\\\\bertax_out_Stool2']"
      ]
     },
     "execution_count": 2,
     "metadata": {},
     "output_type": "execute_result"
    }
   ],
   "source": [
    "### change path to import nanopore classification csv files\n",
    "path = './'\n",
    "files_list = glob.glob(path + 'bertax_out_*')\n",
    "files_list"
   ]
  },
  {
   "cell_type": "code",
   "execution_count": 3,
   "metadata": {},
   "outputs": [
    {
     "data": {
      "text/plain": [
       "'.\\\\bertax_out_Saliva1'"
      ]
     },
     "execution_count": 3,
     "metadata": {},
     "output_type": "execute_result"
    }
   ],
   "source": [
    "file_now = files_list[0]\n",
    "file_now"
   ]
  },
  {
   "attachments": {},
   "cell_type": "markdown",
   "metadata": {},
   "source": [
    "### step2. separate the csv file by at least two consecutive whitespace characters"
   ]
  },
  {
   "cell_type": "code",
   "execution_count": 5,
   "metadata": {},
   "outputs": [
    {
     "name": "stderr",
     "output_type": "stream",
     "text": [
      "C:\\Users\\intco\\AppData\\Local\\Temp\\ipykernel_61320\\1040322851.py:2: ParserWarning: Falling back to the 'python' engine because the 'c' engine does not support regex separators (separators > 1 char and different from '\\s+' are interpreted as regex); you can avoid this warning by specifying engine='python'.\n",
      "  wimp_df = pd.read_csv(file_now, sep = '\\s{2,}')\n"
     ]
    },
    {
     "data": {
      "text/html": [
       "<div>\n",
       "<style scoped>\n",
       "    .dataframe tbody tr th:only-of-type {\n",
       "        vertical-align: middle;\n",
       "    }\n",
       "\n",
       "    .dataframe tbody tr th {\n",
       "        vertical-align: top;\n",
       "    }\n",
       "\n",
       "    .dataframe thead th {\n",
       "        text-align: right;\n",
       "    }\n",
       "</style>\n",
       "<table border=\"1\" class=\"dataframe\">\n",
       "  <thead>\n",
       "    <tr style=\"text-align: right;\">\n",
       "      <th></th>\n",
       "      <th>id</th>\n",
       "      <th>superkingdom</th>\n",
       "      <th>phylum</th>\n",
       "      <th>genus</th>\n",
       "    </tr>\n",
       "  </thead>\n",
       "  <tbody>\n",
       "    <tr>\n",
       "      <th>0</th>\n",
       "      <td>05793ee6-4bfc-46b5-bc89-fd0e6c8f37b1|AGG353_pa...</td>\n",
       "      <td>Viruses (64%)</td>\n",
       "      <td>Rhodophyta (62%)</td>\n",
       "      <td>Roseiflexus (41%)</td>\n",
       "    </tr>\n",
       "    <tr>\n",
       "      <th>1</th>\n",
       "      <td>4b8e9759-ed73-4400-b5c3-d030565a3256|AGG353_pa...</td>\n",
       "      <td>Viruses (89%)</td>\n",
       "      <td>Uroviricota (73%)</td>\n",
       "      <td>unknown (51%)</td>\n",
       "    </tr>\n",
       "    <tr>\n",
       "      <th>2</th>\n",
       "      <td>69ad46ce-5ddc-41b8-95e0-8fe46f42472f|AGG353_pa...</td>\n",
       "      <td>Bacteria (99%)</td>\n",
       "      <td>Cyanobacteria (88%)</td>\n",
       "      <td>Vibrio (98%)</td>\n",
       "    </tr>\n",
       "    <tr>\n",
       "      <th>3</th>\n",
       "      <td>a5590c24-3029-4d05-aef7-f2118b3541ae|AGG353_pa...</td>\n",
       "      <td>Bacteria (73%)</td>\n",
       "      <td>Arthropoda (48%)</td>\n",
       "      <td>Tribolium (89%)</td>\n",
       "    </tr>\n",
       "    <tr>\n",
       "      <th>4</th>\n",
       "      <td>c586e7ca-2f27-4427-b64d-95e19f4ef66e|AGG353_pa...</td>\n",
       "      <td>Eukaryota (81%)</td>\n",
       "      <td>Rhodophyta (99%)</td>\n",
       "      <td>Cyanidioschyzon (93%)</td>\n",
       "    </tr>\n",
       "    <tr>\n",
       "      <th>...</th>\n",
       "      <td>...</td>\n",
       "      <td>...</td>\n",
       "      <td>...</td>\n",
       "      <td>...</td>\n",
       "    </tr>\n",
       "    <tr>\n",
       "      <th>1394</th>\n",
       "      <td>e7fd2ee6-f953-4958-8d67-769aaeb6c727|AGE883_pa...</td>\n",
       "      <td>Eukaryota (95%)</td>\n",
       "      <td>Arthropoda (83%)</td>\n",
       "      <td>Sesamum (14%)</td>\n",
       "    </tr>\n",
       "    <tr>\n",
       "      <th>1395</th>\n",
       "      <td>cf667430-3d9a-4328-8d15-dd435368e390|AGE883_pa...</td>\n",
       "      <td>Bacteria (97%)</td>\n",
       "      <td>Cyanobacteria (94%)</td>\n",
       "      <td>Stanieria (61%)</td>\n",
       "    </tr>\n",
       "    <tr>\n",
       "      <th>1396</th>\n",
       "      <td>36c7c797-fb71-4495-89a3-576632ccf64e|AGE883_pa...</td>\n",
       "      <td>Bacteria (99%)</td>\n",
       "      <td>Proteobacteria (98%)</td>\n",
       "      <td>unknown (95%)</td>\n",
       "    </tr>\n",
       "    <tr>\n",
       "      <th>1397</th>\n",
       "      <td>8b42db5f-90ae-498e-a360-e8c73452ba68|AGE883_pa...</td>\n",
       "      <td>Bacteria (96%)</td>\n",
       "      <td>Firmicutes (85%)</td>\n",
       "      <td>unknown (47%)</td>\n",
       "    </tr>\n",
       "    <tr>\n",
       "      <th>1398</th>\n",
       "      <td>a6c24567-8935-4386-b140-f12bb33ee575|AGE883_pa...</td>\n",
       "      <td>Bacteria (82%)</td>\n",
       "      <td>Proteobacteria (41%)</td>\n",
       "      <td>Acidithiobacillus (98%)</td>\n",
       "    </tr>\n",
       "  </tbody>\n",
       "</table>\n",
       "<p>1399 rows × 4 columns</p>\n",
       "</div>"
      ],
      "text/plain": [
       "                                                     id     superkingdom  \\\n",
       "0     05793ee6-4bfc-46b5-bc89-fd0e6c8f37b1|AGG353_pa...    Viruses (64%)   \n",
       "1     4b8e9759-ed73-4400-b5c3-d030565a3256|AGG353_pa...    Viruses (89%)   \n",
       "2     69ad46ce-5ddc-41b8-95e0-8fe46f42472f|AGG353_pa...   Bacteria (99%)   \n",
       "3     a5590c24-3029-4d05-aef7-f2118b3541ae|AGG353_pa...   Bacteria (73%)   \n",
       "4     c586e7ca-2f27-4427-b64d-95e19f4ef66e|AGG353_pa...  Eukaryota (81%)   \n",
       "...                                                 ...              ...   \n",
       "1394  e7fd2ee6-f953-4958-8d67-769aaeb6c727|AGE883_pa...  Eukaryota (95%)   \n",
       "1395  cf667430-3d9a-4328-8d15-dd435368e390|AGE883_pa...   Bacteria (97%)   \n",
       "1396  36c7c797-fb71-4495-89a3-576632ccf64e|AGE883_pa...   Bacteria (99%)   \n",
       "1397  8b42db5f-90ae-498e-a360-e8c73452ba68|AGE883_pa...   Bacteria (96%)   \n",
       "1398  a6c24567-8935-4386-b140-f12bb33ee575|AGE883_pa...   Bacteria (82%)   \n",
       "\n",
       "                    phylum                    genus  \n",
       "0         Rhodophyta (62%)        Roseiflexus (41%)  \n",
       "1        Uroviricota (73%)            unknown (51%)  \n",
       "2      Cyanobacteria (88%)             Vibrio (98%)  \n",
       "3         Arthropoda (48%)          Tribolium (89%)  \n",
       "4         Rhodophyta (99%)    Cyanidioschyzon (93%)  \n",
       "...                    ...                      ...  \n",
       "1394      Arthropoda (83%)            Sesamum (14%)  \n",
       "1395   Cyanobacteria (94%)          Stanieria (61%)  \n",
       "1396  Proteobacteria (98%)            unknown (95%)  \n",
       "1397      Firmicutes (85%)            unknown (47%)  \n",
       "1398  Proteobacteria (41%)  Acidithiobacillus (98%)  \n",
       "\n",
       "[1399 rows x 4 columns]"
      ]
     },
     "execution_count": 5,
     "metadata": {},
     "output_type": "execute_result"
    }
   ],
   "source": [
    "### separate the columns by at least two consecutive whitespace characters\n",
    "wimp_df = pd.read_csv(file_now, sep = '\\s{2,}')\n",
    "# wimp_df.shape\n",
    "wimp_df"
   ]
  },
  {
   "attachments": {},
   "cell_type": "markdown",
   "metadata": {},
   "source": [
    "### step3. separate the superkingdom column with whitespace characters."
   ]
  },
  {
   "cell_type": "code",
   "execution_count": 8,
   "metadata": {},
   "outputs": [
    {
     "data": {
      "text/html": [
       "<div>\n",
       "<style scoped>\n",
       "    .dataframe tbody tr th:only-of-type {\n",
       "        vertical-align: middle;\n",
       "    }\n",
       "\n",
       "    .dataframe tbody tr th {\n",
       "        vertical-align: top;\n",
       "    }\n",
       "\n",
       "    .dataframe thead th {\n",
       "        text-align: right;\n",
       "    }\n",
       "</style>\n",
       "<table border=\"1\" class=\"dataframe\">\n",
       "  <thead>\n",
       "    <tr style=\"text-align: right;\">\n",
       "      <th></th>\n",
       "      <th>0</th>\n",
       "      <th>1</th>\n",
       "    </tr>\n",
       "  </thead>\n",
       "  <tbody>\n",
       "    <tr>\n",
       "      <th>0</th>\n",
       "      <td>Viruses</td>\n",
       "      <td>(64%)</td>\n",
       "    </tr>\n",
       "    <tr>\n",
       "      <th>1</th>\n",
       "      <td>Viruses</td>\n",
       "      <td>(89%)</td>\n",
       "    </tr>\n",
       "    <tr>\n",
       "      <th>2</th>\n",
       "      <td>Bacteria</td>\n",
       "      <td>(99%)</td>\n",
       "    </tr>\n",
       "    <tr>\n",
       "      <th>3</th>\n",
       "      <td>Bacteria</td>\n",
       "      <td>(73%)</td>\n",
       "    </tr>\n",
       "    <tr>\n",
       "      <th>4</th>\n",
       "      <td>Eukaryota</td>\n",
       "      <td>(81%)</td>\n",
       "    </tr>\n",
       "    <tr>\n",
       "      <th>...</th>\n",
       "      <td>...</td>\n",
       "      <td>...</td>\n",
       "    </tr>\n",
       "    <tr>\n",
       "      <th>1394</th>\n",
       "      <td>Eukaryota</td>\n",
       "      <td>(95%)</td>\n",
       "    </tr>\n",
       "    <tr>\n",
       "      <th>1395</th>\n",
       "      <td>Bacteria</td>\n",
       "      <td>(97%)</td>\n",
       "    </tr>\n",
       "    <tr>\n",
       "      <th>1396</th>\n",
       "      <td>Bacteria</td>\n",
       "      <td>(99%)</td>\n",
       "    </tr>\n",
       "    <tr>\n",
       "      <th>1397</th>\n",
       "      <td>Bacteria</td>\n",
       "      <td>(96%)</td>\n",
       "    </tr>\n",
       "    <tr>\n",
       "      <th>1398</th>\n",
       "      <td>Bacteria</td>\n",
       "      <td>(82%)</td>\n",
       "    </tr>\n",
       "  </tbody>\n",
       "</table>\n",
       "<p>1399 rows × 2 columns</p>\n",
       "</div>"
      ],
      "text/plain": [
       "              0      1\n",
       "0       Viruses  (64%)\n",
       "1       Viruses  (89%)\n",
       "2      Bacteria  (99%)\n",
       "3      Bacteria  (73%)\n",
       "4     Eukaryota  (81%)\n",
       "...         ...    ...\n",
       "1394  Eukaryota  (95%)\n",
       "1395   Bacteria  (97%)\n",
       "1396   Bacteria  (99%)\n",
       "1397   Bacteria  (96%)\n",
       "1398   Bacteria  (82%)\n",
       "\n",
       "[1399 rows x 2 columns]"
      ]
     },
     "execution_count": 8,
     "metadata": {},
     "output_type": "execute_result"
    }
   ],
   "source": [
    "### separate the superkingdom column with whitespace characters.\n",
    "wimp_df_superkingdom = wimp_df['superkingdom'].str.split(' ', expand = True)\n",
    "wimp_df_superkingdom"
   ]
  },
  {
   "cell_type": "code",
   "execution_count": null,
   "metadata": {},
   "outputs": [],
   "source": [
    "wimp_df_phylum = wimp_df['phylum'].str.split(' ', expand = True)\n",
    "wimp_df_phylum"
   ]
  },
  {
   "cell_type": "code",
   "execution_count": null,
   "metadata": {},
   "outputs": [],
   "source": [
    "wimp_df_genus = wimp_df['genus'].str.split(' ', expand = True)\n",
    "wimp_df_genus"
   ]
  },
  {
   "attachments": {},
   "cell_type": "markdown",
   "metadata": {},
   "source": [
    "### step4. using set() function to get the unique list which is not allowed to contain repetitions."
   ]
  },
  {
   "cell_type": "code",
   "execution_count": 188,
   "metadata": {},
   "outputs": [
    {
     "data": {
      "text/plain": [
       "{'Archaea', 'Bacteria', 'Eukaryota', 'Viruses'}"
      ]
     },
     "execution_count": 188,
     "metadata": {},
     "output_type": "execute_result"
    }
   ],
   "source": [
    "### using set() function to get the unique list which is not allowed to contain repetitions\n",
    "unique_superkingdom = set(wimp_df_superkingdom[0])\n",
    "unique_superkingdom"
   ]
  },
  {
   "cell_type": "code",
   "execution_count": 16,
   "metadata": {},
   "outputs": [
    {
     "data": {
      "text/plain": [
       "41"
      ]
     },
     "execution_count": 16,
     "metadata": {},
     "output_type": "execute_result"
    }
   ],
   "source": [
    "unique_phylum = set(wimp_df_phylum[0])\n",
    "len(unique_phylum)"
   ]
  },
  {
   "cell_type": "code",
   "execution_count": 17,
   "metadata": {},
   "outputs": [
    {
     "data": {
      "text/plain": [
       "135"
      ]
     },
     "execution_count": 17,
     "metadata": {},
     "output_type": "execute_result"
    }
   ],
   "source": [
    "unique_genus = set(wimp_df_genus[0])\n",
    "len(unique_genus)"
   ]
  },
  {
   "attachments": {},
   "cell_type": "markdown",
   "metadata": {},
   "source": [
    "### step5. get an unordered collection from the dataframe and count the total number of each type of data"
   ]
  },
  {
   "cell_type": "code",
   "execution_count": 19,
   "metadata": {},
   "outputs": [
    {
     "data": {
      "text/plain": [
       "218"
      ]
     },
     "execution_count": 19,
     "metadata": {},
     "output_type": "execute_result"
    }
   ],
   "source": [
    "### count the total number of Viruses in the superkingdom\n",
    "wimp_df['superkingdom'].str.contains('Viruses').sum()"
   ]
  },
  {
   "cell_type": "code",
   "execution_count": 25,
   "metadata": {},
   "outputs": [
    {
     "name": "stdout",
     "output_type": "stream",
     "text": [
      "Counter({'Eukaryota': 612, 'Bacteria': 504, 'Viruses': 218, 'Archaea': 65})\n"
     ]
    }
   ],
   "source": [
    "### get an unordered collection from the superkingdom column and count the total number of each type of data\n",
    "ctr_superkingdom = collections.Counter()\n",
    "\n",
    "for r in wimp_df_superkingdom[0]:\n",
    "    ctr_superkingdom.update(r.split(\"/\"))\n",
    "print(ctr_superkingdom)"
   ]
  },
  {
   "cell_type": "code",
   "execution_count": null,
   "metadata": {},
   "outputs": [],
   "source": [
    "ctr_phylum = collections.Counter()\n",
    "\n",
    "for r in wimp_df_phylum[0]:\n",
    "    ctr_phylum.update(r.split(\"/\"))\n",
    "print(ctr_phylum)"
   ]
  },
  {
   "cell_type": "code",
   "execution_count": null,
   "metadata": {},
   "outputs": [],
   "source": [
    "ctr_genus = collections.Counter()\n",
    "\n",
    "for r in wimp_df_genus[0]:\n",
    "    ctr_genus.update(r.split(\"/\"))\n",
    "print(ctr_genus)"
   ]
  },
  {
   "attachments": {},
   "cell_type": "markdown",
   "metadata": {},
   "source": [
    "### <2> Save dataframe as csv\n",
    "- Date : 23/03/17\n",
    "- Author : Jeesu Lee"
   ]
  },
  {
   "attachments": {},
   "cell_type": "markdown",
   "metadata": {},
   "source": [
    "### step1. transform dictionary into the dataframe"
   ]
  },
  {
   "cell_type": "code",
   "execution_count": 23,
   "metadata": {},
   "outputs": [
    {
     "data": {
      "text/html": [
       "<div>\n",
       "<style scoped>\n",
       "    .dataframe tbody tr th:only-of-type {\n",
       "        vertical-align: middle;\n",
       "    }\n",
       "\n",
       "    .dataframe tbody tr th {\n",
       "        vertical-align: top;\n",
       "    }\n",
       "\n",
       "    .dataframe thead th {\n",
       "        text-align: right;\n",
       "    }\n",
       "</style>\n",
       "<table border=\"1\" class=\"dataframe\">\n",
       "  <thead>\n",
       "    <tr style=\"text-align: right;\">\n",
       "      <th></th>\n",
       "      <th>Viruses</th>\n",
       "      <th>Bacteria</th>\n",
       "      <th>Eukaryota</th>\n",
       "      <th>Archaea</th>\n",
       "    </tr>\n",
       "  </thead>\n",
       "  <tbody>\n",
       "    <tr>\n",
       "      <th>superkingdom</th>\n",
       "      <td>218</td>\n",
       "      <td>504</td>\n",
       "      <td>612</td>\n",
       "      <td>65</td>\n",
       "    </tr>\n",
       "  </tbody>\n",
       "</table>\n",
       "</div>"
      ],
      "text/plain": [
       "              Viruses  Bacteria  Eukaryota  Archaea\n",
       "superkingdom      218       504        612       65"
      ]
     },
     "execution_count": 23,
     "metadata": {},
     "output_type": "execute_result"
    }
   ],
   "source": [
    "### transform dictionary into the dataframetransform dictionary into the dataframe\n",
    "df_ctr_superkingdom = pd.DataFrame(ctr_superkingdom, index = ['superkingdom'])\n",
    "df_ctr_superkingdom"
   ]
  },
  {
   "cell_type": "code",
   "execution_count": 28,
   "metadata": {},
   "outputs": [
    {
     "data": {
      "text/html": [
       "<div>\n",
       "<style scoped>\n",
       "    .dataframe tbody tr th:only-of-type {\n",
       "        vertical-align: middle;\n",
       "    }\n",
       "\n",
       "    .dataframe tbody tr th {\n",
       "        vertical-align: top;\n",
       "    }\n",
       "\n",
       "    .dataframe thead th {\n",
       "        text-align: right;\n",
       "    }\n",
       "</style>\n",
       "<table border=\"1\" class=\"dataframe\">\n",
       "  <thead>\n",
       "    <tr style=\"text-align: right;\">\n",
       "      <th></th>\n",
       "      <th>Rhodophyta</th>\n",
       "      <th>Uroviricota</th>\n",
       "      <th>Cyanobacteria</th>\n",
       "      <th>Arthropoda</th>\n",
       "      <th>Chordata</th>\n",
       "      <th>Crenarchaeota</th>\n",
       "      <th>Streptophyta</th>\n",
       "      <th>Chloroflexi</th>\n",
       "      <th>Firmicutes</th>\n",
       "      <th>Proteobacteria</th>\n",
       "      <th>...</th>\n",
       "      <th>Spirochaetes</th>\n",
       "      <th>Negarnaviricota</th>\n",
       "      <th>Peploviricota</th>\n",
       "      <th>Euglenozoa</th>\n",
       "      <th>Nematoda</th>\n",
       "      <th>Chlorobi</th>\n",
       "      <th>Nitrospirae</th>\n",
       "      <th>Platyhelminthes</th>\n",
       "      <th>Pisuviricota</th>\n",
       "      <th>Candidatus</th>\n",
       "    </tr>\n",
       "  </thead>\n",
       "  <tbody>\n",
       "    <tr>\n",
       "      <th>phylum</th>\n",
       "      <td>35</td>\n",
       "      <td>173</td>\n",
       "      <td>21</td>\n",
       "      <td>63</td>\n",
       "      <td>135</td>\n",
       "      <td>25</td>\n",
       "      <td>161</td>\n",
       "      <td>52</td>\n",
       "      <td>72</td>\n",
       "      <td>118</td>\n",
       "      <td>...</td>\n",
       "      <td>8</td>\n",
       "      <td>1</td>\n",
       "      <td>8</td>\n",
       "      <td>14</td>\n",
       "      <td>5</td>\n",
       "      <td>4</td>\n",
       "      <td>3</td>\n",
       "      <td>11</td>\n",
       "      <td>3</td>\n",
       "      <td>1</td>\n",
       "    </tr>\n",
       "  </tbody>\n",
       "</table>\n",
       "<p>1 rows × 41 columns</p>\n",
       "</div>"
      ],
      "text/plain": [
       "        Rhodophyta  Uroviricota  Cyanobacteria  Arthropoda  Chordata  \\\n",
       "phylum          35          173             21          63       135   \n",
       "\n",
       "        Crenarchaeota  Streptophyta  Chloroflexi  Firmicutes  Proteobacteria  \\\n",
       "phylum             25           161           52          72             118   \n",
       "\n",
       "        ...  Spirochaetes  Negarnaviricota  Peploviricota  Euglenozoa  \\\n",
       "phylum  ...             8                1              8          14   \n",
       "\n",
       "        Nematoda  Chlorobi  Nitrospirae  Platyhelminthes  Pisuviricota  \\\n",
       "phylum         5         4            3               11             3   \n",
       "\n",
       "        Candidatus  \n",
       "phylum           1  \n",
       "\n",
       "[1 rows x 41 columns]"
      ]
     },
     "execution_count": 28,
     "metadata": {},
     "output_type": "execute_result"
    }
   ],
   "source": [
    "df_ctr_phylum = pd.DataFrame(ctr_phylum, index = ['phylum'])\n",
    "df_ctr_phylum"
   ]
  },
  {
   "cell_type": "code",
   "execution_count": 29,
   "metadata": {},
   "outputs": [
    {
     "data": {
      "text/html": [
       "<div>\n",
       "<style scoped>\n",
       "    .dataframe tbody tr th:only-of-type {\n",
       "        vertical-align: middle;\n",
       "    }\n",
       "\n",
       "    .dataframe tbody tr th {\n",
       "        vertical-align: top;\n",
       "    }\n",
       "\n",
       "    .dataframe thead th {\n",
       "        text-align: right;\n",
       "    }\n",
       "</style>\n",
       "<table border=\"1\" class=\"dataframe\">\n",
       "  <thead>\n",
       "    <tr style=\"text-align: right;\">\n",
       "      <th></th>\n",
       "      <th>Roseiflexus</th>\n",
       "      <th>unknown</th>\n",
       "      <th>Vibrio</th>\n",
       "      <th>Tribolium</th>\n",
       "      <th>Cyanidioschyzon</th>\n",
       "      <th>Lepisosteus</th>\n",
       "      <th>Fervidicoccus</th>\n",
       "      <th>Cynara</th>\n",
       "      <th>Beta</th>\n",
       "      <th>Methanocella</th>\n",
       "      <th>...</th>\n",
       "      <th>Populus</th>\n",
       "      <th>Actinopolyspora</th>\n",
       "      <th>Esox</th>\n",
       "      <th>Sesamum</th>\n",
       "      <th>Ustilago</th>\n",
       "      <th>Pyrobaculum</th>\n",
       "      <th>Chrysemys</th>\n",
       "      <th>Quercus</th>\n",
       "      <th>Monodelphis</th>\n",
       "      <th>Ictalurus</th>\n",
       "    </tr>\n",
       "  </thead>\n",
       "  <tbody>\n",
       "    <tr>\n",
       "      <th>genus</th>\n",
       "      <td>33</td>\n",
       "      <td>190</td>\n",
       "      <td>51</td>\n",
       "      <td>24</td>\n",
       "      <td>26</td>\n",
       "      <td>3</td>\n",
       "      <td>10</td>\n",
       "      <td>27</td>\n",
       "      <td>15</td>\n",
       "      <td>8</td>\n",
       "      <td>...</td>\n",
       "      <td>2</td>\n",
       "      <td>2</td>\n",
       "      <td>1</td>\n",
       "      <td>2</td>\n",
       "      <td>1</td>\n",
       "      <td>1</td>\n",
       "      <td>1</td>\n",
       "      <td>1</td>\n",
       "      <td>1</td>\n",
       "      <td>1</td>\n",
       "    </tr>\n",
       "  </tbody>\n",
       "</table>\n",
       "<p>1 rows × 135 columns</p>\n",
       "</div>"
      ],
      "text/plain": [
       "       Roseiflexus  unknown  Vibrio  Tribolium  Cyanidioschyzon  Lepisosteus  \\\n",
       "genus           33      190      51         24               26            3   \n",
       "\n",
       "       Fervidicoccus  Cynara  Beta  Methanocella  ...  Populus  \\\n",
       "genus             10      27    15             8  ...        2   \n",
       "\n",
       "       Actinopolyspora  Esox  Sesamum  Ustilago  Pyrobaculum  Chrysemys  \\\n",
       "genus                2     1        2         1            1          1   \n",
       "\n",
       "       Quercus  Monodelphis  Ictalurus  \n",
       "genus        1            1          1  \n",
       "\n",
       "[1 rows x 135 columns]"
      ]
     },
     "execution_count": 29,
     "metadata": {},
     "output_type": "execute_result"
    }
   ],
   "source": [
    "df_ctr_genus = pd.DataFrame(ctr_genus, index = ['genus'])\n",
    "df_ctr_genus"
   ]
  },
  {
   "attachments": {},
   "cell_type": "markdown",
   "metadata": {},
   "source": [
    "### step2. save dataframe as csv"
   ]
  },
  {
   "cell_type": "code",
   "execution_count": 195,
   "metadata": {},
   "outputs": [],
   "source": [
    "### save dataframe as csv\n",
    "df_ctr_superkingdom.to_csv(\"Saliva1_superkingdom.csv\", encoding='UTF-8')"
   ]
  },
  {
   "cell_type": "code",
   "execution_count": 197,
   "metadata": {},
   "outputs": [],
   "source": [
    "df_ctr_phylum.to_csv(\"Saliva1_phylum.csv\", encoding='UTF-8')"
   ]
  },
  {
   "cell_type": "code",
   "execution_count": 199,
   "metadata": {},
   "outputs": [],
   "source": [
    "df_ctr_genus.to_csv(\"Saliva1_genus.csv\", encoding='UTF-8')"
   ]
  },
  {
   "attachments": {},
   "cell_type": "markdown",
   "metadata": {},
   "source": [
    "### step3. merged data (Saliva1.csv, Saliva2.csv, Stool1.csv, Stool2.csv, Stool3.csv)"
   ]
  }
 ],
 "metadata": {
  "kernelspec": {
   "display_name": "Python 3",
   "language": "python",
   "name": "python3"
  },
  "language_info": {
   "codemirror_mode": {
    "name": "ipython",
    "version": 3
   },
   "file_extension": ".py",
   "mimetype": "text/x-python",
   "name": "python",
   "nbconvert_exporter": "python",
   "pygments_lexer": "ipython3",
   "version": "3.11.1 (tags/v3.11.1:a7a450f, Dec  6 2022, 19:58:39) [MSC v.1934 64 bit (AMD64)]"
  },
  "orig_nbformat": 4,
  "vscode": {
   "interpreter": {
    "hash": "afffc98ef2e14478aefd6c9936db4a8482b7a0abefe81264c0b83ced56e60f5e"
   }
  }
 },
 "nbformat": 4,
 "nbformat_minor": 2
}
