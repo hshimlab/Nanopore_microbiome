{
 "cells": [
  {
   "attachments": {},
   "cell_type": "markdown",
   "metadata": {},
   "source": [
    "##### library"
   ]
  },
  {
   "cell_type": "code",
   "execution_count": 2,
   "metadata": {},
   "outputs": [],
   "source": [
    "import os\n",
    "import glob\n",
    "import pandas as pd\n",
    "import re\n",
    "import collections\n",
    "import csv\n",
    "\n",
    "\n",
    "import matplotlib.pyplot as plt\n",
    "\n",
    "\n",
    "import seaborn as sns\n",
    "import numpy as np"
   ]
  },
  {
   "attachments": {},
   "cell_type": "markdown",
   "metadata": {},
   "source": [
    "##### import file"
   ]
  },
  {
   "cell_type": "code",
   "execution_count": 3,
   "metadata": {},
   "outputs": [
    {
     "name": "stderr",
     "output_type": "stream",
     "text": [
      "C:\\Users\\intco\\AppData\\Local\\Temp\\ipykernel_66468\\297330318.py:5: ParserWarning: Falling back to the 'python' engine because the 'c' engine does not support regex separators (separators > 1 char and different from '\\s+' are interpreted as regex); you can avoid this warning by specifying engine='python'.\n",
      "  wimp_df = pd.read_csv(file_now, sep = '\\s{2,}')\n"
     ]
    }
   ],
   "source": [
    "path = './'\n",
    "files_list = glob.glob(path + 'bertax_out_*')\n",
    "file_now = files_list[2]\n",
    "\n",
    "wimp_df = pd.read_csv(file_now, sep = '\\s{2,}')"
   ]
  },
  {
   "attachments": {},
   "cell_type": "markdown",
   "metadata": {},
   "source": [
    "### <1> (Saliv3_genus) The data depicted in graphical format : bar graph\n",
    "- Date : 23/04/05\n",
    "- Author : Jeesu Lee"
   ]
  },
  {
   "attachments": {},
   "cell_type": "markdown",
   "metadata": {},
   "source": [
    "### <1-1> Eukaryota"
   ]
  },
  {
   "attachments": {},
   "cell_type": "markdown",
   "metadata": {},
   "source": [
    "### step1. select the 'specific variabale' only from superkingdom"
   ]
  },
  {
   "cell_type": "code",
   "execution_count": 4,
   "metadata": {},
   "outputs": [],
   "source": [
    "### specific variable : 'Eukaryota'\n",
    "specific_Eukaryota = 'Eukaryota'\n",
    "\n",
    "### select 'Eukaryota' only from superkingdom\n",
    "specific_rows_Saliva3_Eukaryota = wimp_df[wimp_df['superkingdom'].str.contains(specific_Eukaryota)]\n",
    "\n",
    "# create dataframe\n",
    "Saliva3_Eukaryota_df = pd.DataFrame(specific_rows_Saliva3_Eukaryota)\n",
    "\n"
   ]
  },
  {
   "attachments": {},
   "cell_type": "markdown",
   "metadata": {},
   "source": [
    "### step2. count how many unique genus in the Eukaryota group which is devided by superkingdom"
   ]
  },
  {
   "cell_type": "code",
   "execution_count": 5,
   "metadata": {},
   "outputs": [
    {
     "data": {
      "text/plain": [
       "129"
      ]
     },
     "execution_count": 5,
     "metadata": {},
     "output_type": "execute_result"
    }
   ],
   "source": [
    "### extract the genus column\n",
    "specific_column_Saliva3_Eukaryota_genus = Saliva3_Eukaryota_df['genus'].str.split(' ', expand = True)\n",
    "specific_column_Saliva3_Eukaryota_genus\n",
    "\n",
    "### get the unique list which is not allowed to contain repetitions\n",
    "unique_specific_column_Saliva3_Eukaryota_genus = set(specific_column_Saliva3_Eukaryota_genus[0])\n",
    "len(unique_specific_column_Saliva3_Eukaryota_genus)"
   ]
  },
  {
   "attachments": {},
   "cell_type": "markdown",
   "metadata": {},
   "source": [
    "### step3. get an unordered collection from the dataframe and count the total number of each type of genus"
   ]
  },
  {
   "cell_type": "code",
   "execution_count": 8,
   "metadata": {},
   "outputs": [
    {
     "name": "stdout",
     "output_type": "stream",
     "text": [
      "Counter({'Cucurbita': 703, 'Ooceraea': 561, 'Tribolium': 277, 'Cyanidioschyzon': 229, 'Cynara': 227, 'Apis': 220, 'Ostreococcus': 189, 'Ciona': 174, 'Zymoseptoria': 172, 'Beta': 166, 'Olea': 130, 'Crassostrea': 128, 'Thalassiosira': 124, 'Daucus': 118, 'Cercospora': 108, 'unknown': 105, 'Theileria': 102, 'Drosophila': 89, 'Caenorhabditis': 88, 'Helianthus': 81, 'Solanum': 75, 'Papaver': 75, 'Physcomitrium': 65, 'Colletotrichum': 60, 'Asparagus': 60, 'Leishmania': 60, 'Fusarium': 60, 'Plasmodium': 57, 'Cryptococcus': 56, 'Oncorhynchus': 56, 'Rhopalosiphum': 55, 'Brassica': 53, 'Acyrthosiphon': 53, 'Sporisorium': 51, 'Malassezia': 50, 'Octopus': 49, 'Musa': 47, 'Pyricularia': 44, 'Phaeodactylum': 40, 'Gadus': 39, 'Rhinatrema': 37, 'Botrytis': 34, 'Pomacea': 33, 'Scleropages': 31, 'Schistosoma': 31, 'Aspergillus': 30, 'Ktedonosporobacter': 28, 'Betta': 27, 'Gallus': 26, 'Erpetoichthys': 25, 'Ustilago': 20, 'Xenopus': 19, 'Citrus': 19, 'Nymphaea': 18, 'Elaeis': 18, 'Bifidobacterium': 18, 'Manihot': 18, 'Roseiflexus': 17, 'Trichoplusia': 17, 'Quercus': 16, 'Cottoperca': 16, 'Ictalurus': 16, 'Microcaecilia': 14, 'Coffea': 13, 'Punica': 13, 'Podarcis': 12, 'Spodoptera': 12, 'Mus': 11, 'Vibrio': 9, 'Astyanax': 9, 'Actinomyces': 9, 'Oryzias': 9, 'Monodelphis': 9, 'Carassius': 9, 'Sarcophilus': 8, 'Cynoglossus': 8, 'Cucumis': 8, 'Gossypium': 7, 'Dictyostelium': 6, 'Candidatus': 6, 'Nitrososphaera': 6, 'Perca': 6, 'Sphaeramia': 6, 'Deinococcus': 6, 'Methanocella': 6, 'Rubrobacter': 6, 'Synechococcus': 5, 'Salarias': 5, 'Vitis': 5, 'Populus': 5, 'Gopherus': 5, 'Archaeoglobus': 4, 'Akkermansia': 4, 'Xiphophorus': 4, 'Sesamum': 4, 'Leptospira': 3, 'Aythya': 3, 'Esox': 3, 'Pseudomonas': 3, 'Bradymonas': 3, 'Methanosarcina': 3, 'Denticeps': 3, 'Gemmata': 3, 'Phyllostomus': 2, 'Strigops': 2, 'Stanieria': 2, 'Methanobrevibacter': 2, 'Lepisosteus': 2, 'Calypte': 2, 'Takifugu': 2, 'Aeromonas': 2, 'Chanos': 2, 'Gouania': 2, 'Neisseria': 2, 'Rudivirus': 2, 'Oryctolagus': 1, 'Legionella': 1, 'Acidilobus': 1, 'Sedimentisphaera': 1, 'Acidithiobacillus': 1, 'Salinisphaera': 1, 'Ornithorhynchus': 1, 'Chlamydia': 1, 'Nitrospira': 1, 'Methanocaldococcus': 1, 'Brachyspira': 1, 'Anas': 1, 'Equus': 1, 'Clupea': 1})\n"
     ]
    },
    {
     "data": {
      "text/plain": [
       "129"
      ]
     },
     "execution_count": 8,
     "metadata": {},
     "output_type": "execute_result"
    }
   ],
   "source": [
    "ctr_Saliva3_Eukaryota_genus = collections.Counter()\n",
    "\n",
    "for r in specific_column_Saliva3_Eukaryota_genus[0]:\n",
    "    ctr_Saliva3_Eukaryota_genus.update(r.split(\"/\"))\n",
    "print(ctr_Saliva3_Eukaryota_genus)\n",
    "\n",
    "### compare with previous step\n",
    "len(ctr_Saliva3_Eukaryota_genus)"
   ]
  },
  {
   "attachments": {},
   "cell_type": "markdown",
   "metadata": {},
   "source": [
    "### step4. create barh graph"
   ]
  },
  {
   "cell_type": "code",
   "execution_count": null,
   "metadata": {},
   "outputs": [],
   "source": [
    "# create data\n",
    "data_Eukaryota = ctr_Saliva3_Eukaryota_genus\n",
    "y = list(data_Eukaryota.keys())\n",
    "x = list(data_Eukaryota.values())\n",
    "\n",
    "# sort x-axis values in descending order\n",
    "x_sorted = sorted(x, reverse=True)\n",
    "\n",
    "# design the graph\n",
    "fig, ax = plt.subplots(figsize=(8, 17))\n",
    "\n",
    "# create horizontal barh graph\n",
    "ax.barh(y, x_sorted, color='#5E8CD8D9', height=0.8)\n",
    "\n",
    "# remove space between value labels and bars\n",
    "ax.margins(y=0.01)\n",
    "\n",
    "# add graph title and axis labels\n",
    "ax.set_title('<Saliva3 Eukaryota Genus>')\n",
    "\n",
    "# add value labels to the bars\n",
    "for i, v in enumerate(x_sorted):\n",
    "    ax.text(v+0.05, i, str(v), va='center')\n",
    "\n",
    "# save as jpg\n",
    "plt.tight_layout()\n",
    "plt.savefig(\"barh_Saliva3_Eukaryota_genus.jpg\") "
   ]
  },
  {
   "attachments": {},
   "cell_type": "markdown",
   "metadata": {},
   "source": [
    "### <1-2> Bacteria"
   ]
  },
  {
   "cell_type": "code",
   "execution_count": 10,
   "metadata": {},
   "outputs": [
    {
     "data": {
      "text/plain": [
       "115"
      ]
     },
     "execution_count": 10,
     "metadata": {},
     "output_type": "execute_result"
    }
   ],
   "source": [
    "specific_Bacteria = 'Bacteria'\n",
    "specific_rows_Saliva3_Bacteria = wimp_df[wimp_df['superkingdom'].str.contains(specific_Bacteria)]\n",
    "\n",
    "Saliva3_Bacteria_df = pd.DataFrame(specific_rows_Saliva3_Bacteria)\n",
    "\n",
    "specific_column_Saliva3_Bacteria_genus = Saliva3_Bacteria_df['genus'].str.split(' ', expand = True)\n",
    "specific_column_Saliva3_Bacteria_genus\n",
    "\n",
    "unique_specific_column_Saliva3_Bacteria_genus = set(specific_column_Saliva3_Bacteria_genus[0])\n",
    "len(unique_specific_column_Saliva3_Bacteria_genus)\n"
   ]
  },
  {
   "cell_type": "code",
   "execution_count": 11,
   "metadata": {},
   "outputs": [
    {
     "name": "stdout",
     "output_type": "stream",
     "text": [
      "Counter({'unknown': 2031, 'Roseiflexus': 772, 'Vibrio': 530, 'Neisseria': 457, 'Bifidobacterium': 307, 'Actinomyces': 298, 'Ooceraea': 272, 'Ktedonosporobacter': 237, 'Candidatus': 193, 'Pseudomonas': 165, 'Salinisphaera': 165, 'Tribolium': 153, 'Stanieria': 151, 'Gemmata': 129, 'Deinococcus': 117, 'Akkermansia': 110, 'Rubrobacter': 107, 'Leptospira': 105, 'Synechococcus': 100, 'Cyanidioschyzon': 95, 'Prosthecochloris': 75, 'Ostreococcus': 72, 'Legionella': 68, 'Apis': 62, 'Methanosarcina': 61, 'Aeromonas': 55, 'Crassostrea': 55, 'Ciona': 55, 'Nitrospira': 54, 'Actinopolyspora': 49, 'Methanocella': 47, 'Sedimentisphaera': 47, 'Bradymonas': 47, 'Desulfovibrio': 46, 'Limnochorda': 45, 'Plasmodium': 43, 'Acidithiobacillus': 39, 'Cucurbita': 38, 'Brachyspira': 36, 'Chlamydia': 35, 'Streptomyces': 33, 'Nitrososphaera': 31, 'Drosophila': 28, 'Cynara': 27, 'Zymoseptoria': 27, 'Frankia': 26, 'Archaeoglobus': 23, 'Papaver': 23, 'Egibacter': 22, 'Leishmania': 21, 'Beta': 21, 'Cercospora': 21, 'Methanocaldococcus': 20, 'Mariprofundus': 20, 'Pyricularia': 20, 'Acyrthosiphon': 19, 'Physcomitrium': 18, 'Malassezia': 18, 'Colletotrichum': 16, 'Caenorhabditis': 16, 'Olea': 15, 'Helianthus': 14, 'Bdellovibrio': 14, 'Phaeodactylum': 13, 'Thalassiosira': 12, 'Thermogutta': 12, 'Sporisorium': 11, 'Daucus': 11, 'Rudivirus': 10, 'Asparagus': 10, 'Egicoccus': 9, 'Modestobacter': 8, 'Cryptococcus': 8, 'Musa': 7, 'Aspergillus': 7, 'Gadus': 6, 'Brassica': 6, 'Euzebya': 6, 'Trichoplusia': 6, 'Methanobacterium': 6, 'Rhopalosiphum': 5, 'Gossypium': 5, 'Schistosoma': 5, 'Citrus': 5, 'Methanobrevibacter': 5, 'Botrytis': 5, 'Octopus': 5, 'Nymphaea': 5, 'Rhinatrema': 4, 'Fervidicoccus': 4, 'Elaeis': 4, 'Solanum': 3, 'Theileria': 3, 'Pomacea': 3, 'Denticeps': 2, 'Betta': 2, 'Cucumis': 2, 'Strigops': 2, 'Ustilago': 2, 'Scleropages': 2, 'Oncorhynchus': 2, 'Gallus': 1, 'Quercus': 1, 'Populus': 1, 'Spodoptera': 1, 'Erpetoichthys': 1, 'Coffea': 1, 'Manihot': 1, 'Microcaecilia': 1, 'Punica': 1, 'Astyanax': 1, 'Fusarium': 1, 'Xenopus': 1, 'Podarcis': 1, 'Carassius': 1})\n"
     ]
    },
    {
     "data": {
      "text/plain": [
       "115"
      ]
     },
     "execution_count": 11,
     "metadata": {},
     "output_type": "execute_result"
    }
   ],
   "source": [
    "ctr_Saliva3_Bacteria_genus = collections.Counter()\n",
    "\n",
    "for r in specific_column_Saliva3_Bacteria_genus[0]:\n",
    "    ctr_Saliva3_Bacteria_genus.update(r.split(\"/\"))\n",
    "print(ctr_Saliva3_Bacteria_genus)\n",
    "\n",
    "len(ctr_Saliva3_Bacteria_genus)"
   ]
  },
  {
   "cell_type": "code",
   "execution_count": null,
   "metadata": {},
   "outputs": [],
   "source": [
    "# create data\n",
    "data_Bacteria = ctr_Saliva3_Bacteria_genus\n",
    "y = list(data_Bacteria.keys())\n",
    "x = list(data_Bacteria.values())\n",
    "\n",
    "# sort x-axis values in descending order\n",
    "x_sorted = sorted(x, reverse=True)\n",
    "\n",
    "# design the graph\n",
    "fig, ax = plt.subplots(figsize=(9, 13))\n",
    "\n",
    "# create horizontal barh graph\n",
    "ax.barh(y, x_sorted, color='#8FBC8BD9', height=0.8)\n",
    "\n",
    "# remove space between value labels and bars\n",
    "ax.margins(y=0.01)\n",
    "\n",
    "# add graph title and axis labels\n",
    "ax.set_title('<Saliva3 Bacteria Genus>')\n",
    "\n",
    "# add value labels to the bars\n",
    "for i, v in enumerate(x_sorted):\n",
    "    ax.text(v+0.05, i, str(v), va='center')\n",
    "\n",
    "# save as jpg\n",
    "plt.tight_layout()\n",
    "plt.savefig(\"barh_Saliva3_Bacteria_genus.jpg\") "
   ]
  },
  {
   "attachments": {},
   "cell_type": "markdown",
   "metadata": {},
   "source": [
    "### <1-3> Viruses"
   ]
  },
  {
   "cell_type": "code",
   "execution_count": 10,
   "metadata": {},
   "outputs": [
    {
     "data": {
      "text/plain": [
       "115"
      ]
     },
     "execution_count": 10,
     "metadata": {},
     "output_type": "execute_result"
    }
   ],
   "source": [
    "specific_Viruses = 'Viruses'\n",
    "specific_rows_Saliva3_Viruses = wimp_df[wimp_df['superkingdom'].str.contains(specific_Viruses)]\n",
    "\n",
    "Saliva3_Viruses_df = pd.DataFrame(specific_rows_Saliva3_Viruses)\n",
    "\n",
    "specific_column_Saliva3_Viruses_genus = Saliva3_Viruses_df['genus'].str.split(' ', expand = True)\n",
    "specific_column_Saliva3_Viruses_genus\n",
    "\n",
    "unique_specific_column_Saliva3_Viruses_genus = set(specific_column_Saliva3_Viruses_genus[0])\n",
    "len(unique_specific_column_Saliva3_Viruses_genus)\n"
   ]
  },
  {
   "cell_type": "code",
   "execution_count": 11,
   "metadata": {},
   "outputs": [
    {
     "name": "stdout",
     "output_type": "stream",
     "text": [
      "Counter({'unknown': 613, 'Cucurbita': 204, 'Ooceraea': 147, 'Vibrio': 147, 'Roseiflexus': 140, 'Rudivirus': 130, 'Pseudomonas': 109, 'Bifidobacterium': 84, 'Ciona': 70, 'Actinomyces': 59, 'Salinisphaera': 55, 'Zymoseptoria': 51, 'Gemmata': 50, 'Cynara': 45, 'Tribolium': 41, 'Candidatus': 41, 'Ostreococcus': 38, 'Beta': 36, 'Actinopolyspora': 34, 'Aeromonas': 33, 'Helianthus': 32, 'Neisseria': 31, 'Cyanidioschyzon': 28, 'Crassostrea': 28, 'Asparagus': 27, 'Theileria': 26, 'Cercospora': 26, 'Synechococcus': 24, 'Methanocella': 22, 'Drosophila': 22, 'Colletotrichum': 22, 'Papaver': 21, 'Fusarium': 20, 'Acyrthosiphon': 19, 'Mariprofundus': 15, 'Limnochorda': 15, 'Thalassiosira': 14, 'Deinococcus': 14, 'Leptospira': 14, 'Archaeoglobus': 14, 'Schistosoma': 14, 'Olea': 13, 'Aspergillus': 13, 'Daucus': 13, 'Nitrososphaera': 13, 'Phaeodactylum': 13, 'Caenorhabditis': 13, 'Gadus': 12, 'Plasmodium': 11, 'Cryptococcus': 11, 'Bdellovibrio': 11, 'Pyricularia': 10, 'Sedimentisphaera': 10, 'Methanobrevibacter': 10, 'Brassica': 9, 'Malassezia': 8, 'Ktedonosporobacter': 8, 'Solanum': 8, 'Rubrobacter': 8, 'Octopus': 8, 'Acidithiobacillus': 7, 'Apis': 7, 'Methanocaldococcus': 7, 'Brachyspira': 6, 'Erpetoichthys': 6, 'Rhopalosiphum': 6, 'Methanopyrus': 6, 'Pomacea': 6, 'Spodoptera': 6, 'Sporisorium': 6, 'Physcomitrium': 5, 'Chlamydia': 5, 'Frankia': 5, 'Legionella': 5, 'Methanosarcina': 5, 'Prosthecochloris': 5, 'Desulfovibrio': 5, 'Nymphaea': 4, 'Oncorhynchus': 4, 'Denticeps': 4, 'Botrytis': 4, 'Scleropages': 4, 'Stanieria': 4, 'Streptomyces': 3, 'Microcaecilia': 3, 'Astyanax': 3, 'Leishmania': 3, 'Ictalurus': 3, 'Trichoplusia': 3, 'Akkermansia': 3, 'Betta': 2, 'Thermogutta': 2, 'Methanobacterium': 2, 'Pyrobaculum': 2, 'Citrus': 2, 'Gallus': 2, 'Fervidicoccus': 2, 'Chanos': 1, 'Quercus': 1, 'Esox': 1, 'Bradymonas': 1, 'Nitrospira': 1, 'Podarcis': 1, 'Gopherus': 1, 'Egicoccus': 1, 'Xenopus': 1, 'Cynoglossus': 1, 'Populus': 1, 'Monodelphis': 1, 'Ornithorhynchus': 1, 'Punica': 1, 'Musa': 1, 'Strigops': 1, 'Elaeis': 1, 'Ustilago': 1})\n"
     ]
    },
    {
     "data": {
      "text/plain": [
       "115"
      ]
     },
     "execution_count": 11,
     "metadata": {},
     "output_type": "execute_result"
    }
   ],
   "source": [
    "ctr_Saliva3_Viruses_genus = collections.Counter()\n",
    "\n",
    "for r in specific_column_Saliva3_Viruses_genus[0]:\n",
    "    ctr_Saliva3_Viruses_genus.update(r.split(\"/\"))\n",
    "print(ctr_Saliva3_Viruses_genus)\n",
    "\n",
    "len(ctr_Saliva3_Viruses_genus)"
   ]
  },
  {
   "cell_type": "code",
   "execution_count": null,
   "metadata": {},
   "outputs": [],
   "source": [
    "# create data\n",
    "data_Viruses = ctr_Saliva3_Viruses_genus\n",
    "y = list(data_Viruses.keys())\n",
    "x = list(data_Viruses.values())\n",
    "\n",
    "# sort x-axis values in descending order\n",
    "x_sorted = sorted(x, reverse=True)\n",
    "\n",
    "# design the graph\n",
    "fig, ax = plt.subplots(figsize=(7, 15))\n",
    "\n",
    "# create horizontal barh graph\n",
    "ax.barh(y, x_sorted, color='#EAA221D9', height=0.8)\n",
    "\n",
    "# remove space between value labels and bars\n",
    "ax.margins(y=0.01)\n",
    "\n",
    "# add graph title and axis labels\n",
    "ax.set_title('<Saliva3 Viruses Genus>')\n",
    "### ax.set_xlabel('count')\n",
    "### ax.set_ylabel('Viruses genus')\n",
    "\n",
    "# add value labels to the bars\n",
    "for i, v in enumerate(x_sorted):\n",
    "    ax.text(v+0.05, i, str(v), va='center')\n",
    "\n",
    "# save as jpg\n",
    "plt.tight_layout()\n",
    "plt.savefig(\"barh_Saliva3_Viruses_genus.jpg\") "
   ]
  },
  {
   "attachments": {},
   "cell_type": "markdown",
   "metadata": {},
   "source": [
    "### <1-4> Archaea"
   ]
  },
  {
   "cell_type": "code",
   "execution_count": 13,
   "metadata": {},
   "outputs": [
    {
     "data": {
      "text/plain": [
       "94"
      ]
     },
     "execution_count": 13,
     "metadata": {},
     "output_type": "execute_result"
    }
   ],
   "source": [
    "specific_Archaea = 'Archaea'\n",
    "specific_rows_Saliva3_Archaea = wimp_df[wimp_df['superkingdom'].str.contains(specific_Archaea)]\n",
    "\n",
    "Saliva3_Archaea_df = pd.DataFrame(specific_rows_Saliva3_Archaea)\n",
    "\n",
    "specific_column_Saliva3_Archaea_genus = Saliva3_Archaea_df['genus'].str.split(' ', expand = True)\n",
    "specific_column_Saliva3_Archaea_genus\n",
    "\n",
    "unique_specific_column_Saliva3_Archaea_genus = set(specific_column_Saliva3_Archaea_genus[0])\n",
    "len(unique_specific_column_Saliva3_Archaea_genus)\n"
   ]
  },
  {
   "cell_type": "code",
   "execution_count": 14,
   "metadata": {},
   "outputs": [
    {
     "name": "stdout",
     "output_type": "stream",
     "text": [
      "Counter({'unknown': 269, 'Archaeoglobus': 118, 'Methanocella': 92, 'Methanosarcina': 89, 'Nitrososphaera': 87, 'Candidatus': 72, 'Fervidicoccus': 49, 'Cucurbita': 40, 'Methanocaldococcus': 33, 'Ooceraea': 33, 'Gemmata': 29, 'Actinopolyspora': 27, 'Roseiflexus': 25, 'Methanopyrus': 24, 'Rubrobacter': 23, 'Ostreococcus': 19, 'Zymoseptoria': 19, 'Pyrobaculum': 16, 'Asparagus': 16, 'Ktedonosporobacter': 15, 'Beta': 15, 'Daucus': 15, 'Papaver': 15, 'Tribolium': 13, 'Methanobrevibacter': 12, 'Thermococcus': 12, 'Plasmodium': 12, 'Cyanidioschyzon': 11, 'Acidilobus': 10, 'Crassostrea': 10, 'Prosthecochloris': 10, 'Bifidobacterium': 9, 'Leptospira': 7, 'Actinomyces': 7, 'Fusarium': 7, 'Octopus': 6, 'Theileria': 6, 'Phaeodactylum': 5, 'Apis': 5, 'Thalassiosira': 5, 'Rudivirus': 5, 'Caenorhabditis': 4, 'Akkermansia': 4, 'Methanobacterium': 4, 'Brassica': 4, 'Sporisorium': 4, 'Sedimentisphaera': 3, 'Helianthus': 3, 'Synechococcus': 3, 'Botrytis': 3, 'Punica': 3, 'Musa': 3, 'Olea': 3, 'Cryptococcus': 3, 'Gossypium': 3, 'Chlamydia': 3, 'Quercus': 2, 'Pyricularia': 2, 'Leishmania': 2, 'Cercospora': 2, 'Vibrio': 2, 'Salinisphaera': 2, 'Aspergillus': 2, 'Gadus': 2, 'Cynara': 2, 'Limnochorda': 2, 'Nitrosopumilus': 2, 'Solanum': 2, 'Colletotrichum': 2, 'Egibacter': 1, 'Microcaecilia': 1, 'Brachyspira': 1, 'Egicoccus': 1, 'Thermus': 1, 'Ustilago': 1, 'Populus': 1, 'Rhinatrema': 1, 'Schistosoma': 1, 'Legionella': 1, 'Stanieria': 1, 'Frankia': 1, 'Rhopalosiphum': 1, 'Deinococcus': 1, 'Ciona': 1, 'Pomacea': 1, 'Euzebya': 1, 'Acyrthosiphon': 1, 'Spodoptera': 1, 'Coffea': 1, 'Trichoplusia': 1, 'Vitis': 1, 'Physcomitrium': 1, 'Drosophila': 1, 'Bradymonas': 1})\n"
     ]
    },
    {
     "data": {
      "text/plain": [
       "94"
      ]
     },
     "execution_count": 14,
     "metadata": {},
     "output_type": "execute_result"
    }
   ],
   "source": [
    "ctr_Saliva3_Archaea_genus = collections.Counter()\n",
    "\n",
    "for r in specific_column_Saliva3_Archaea_genus[0]:\n",
    "    ctr_Saliva3_Archaea_genus.update(r.split(\"/\"))\n",
    "print(ctr_Saliva3_Archaea_genus)\n",
    "\n",
    "len(ctr_Saliva3_Archaea_genus)"
   ]
  },
  {
   "cell_type": "code",
   "execution_count": null,
   "metadata": {},
   "outputs": [],
   "source": [
    "# create data\n",
    "data_Archaea = ctr_Saliva3_Archaea_genus\n",
    "y = list(data_Archaea.keys())\n",
    "x = list(data_Archaea.values())\n",
    "\n",
    "# sort x-axis values in descending order\n",
    "x_sorted = sorted(x, reverse=True)\n",
    "\n",
    "# design the graph\n",
    "fig, ax = plt.subplots(figsize=(7, 15))\n",
    "\n",
    "# create horizontal barh graph\n",
    "ax.barh(y, x_sorted, color='#C94C4CD9', height=0.8)\n",
    "\n",
    "# remove space between value labels and bars\n",
    "ax.margins(y=0.01)\n",
    "\n",
    "# add graph title and axis labels\n",
    "ax.set_title('<Saliva3 Archaea Genus>')\n",
    "\n",
    "# add value labels to the bars\n",
    "for i, v in enumerate(x_sorted):\n",
    "    ax.text(v+0.05, i, str(v), va='center')\n",
    "\n",
    "# remove space between value labels and bars\n",
    "ax.tick_params(axis='y', pad=0)\n",
    "\n",
    "# save as jpg\n",
    "plt.tight_layout()\n",
    "plt.savefig(\"barh_Saliva3_Archaea_genus.jpg\") "
   ]
  }
 ],
 "metadata": {
  "kernelspec": {
   "display_name": "Python 3",
   "language": "python",
   "name": "python3"
  },
  "language_info": {
   "codemirror_mode": {
    "name": "ipython",
    "version": 3
   },
   "file_extension": ".py",
   "mimetype": "text/x-python",
   "name": "python",
   "nbconvert_exporter": "python",
   "pygments_lexer": "ipython3",
   "version": "3.11.1"
  },
  "orig_nbformat": 4,
  "vscode": {
   "interpreter": {
    "hash": "afffc98ef2e14478aefd6c9936db4a8482b7a0abefe81264c0b83ced56e60f5e"
   }
  }
 },
 "nbformat": 4,
 "nbformat_minor": 2
}
